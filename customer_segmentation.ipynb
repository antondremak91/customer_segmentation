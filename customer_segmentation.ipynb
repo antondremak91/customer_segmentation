{
  "cells": [
    {
      "cell_type": "markdown",
      "metadata": {
        "id": "view-in-github",
        "colab_type": "text"
      },
      "source": [
        "<a href=\"https://colab.research.google.com/github/antondremak91/customer_segmentation/blob/main/customer_segmentation.ipynb\" target=\"_parent\"><img src=\"https://colab.research.google.com/assets/colab-badge.svg\" alt=\"Open In Colab\"/></a>"
      ]
    },
    {
      "cell_type": "markdown",
      "metadata": {
        "id": "VmX8MTFWJh_d"
      },
      "source": [
        "## Customer segmentation data from Kaggle"
      ]
    },
    {
      "cell_type": "markdown",
      "metadata": {
        "id": "1UCj9aRmJnVD"
      },
      "source": [
        "An automobile company has plans to enter new markets with their existing products (P1, P2, P3, P4 and P5). After intensive market research, they’ve deduced that the behavior of new market is similar to their existing market."
      ]
    },
    {
      "cell_type": "markdown",
      "metadata": {
        "id": "IO4P0T2GJxqg"
      },
      "source": [
        "In their existing market, the sales team has classified all customers into 4 segments (A, B, C, D ). Then, they performed segmented outreach and communication for different segment of customers. This strategy has work exceptionally well for them. They plan to use the same strategy on new markets and have identified 2627 new potential customers.\n",
        "\n",
        "We are required to help the manager to predict the right group of the new customers."
      ]
    },
    {
      "cell_type": "code",
      "execution_count": 338,
      "metadata": {
        "id": "FEXr1GTaJdG2"
      },
      "outputs": [],
      "source": [
        "import pandas as pd\n",
        "import numpy as np\n",
        "import seaborn as sns\n",
        "import matplotlib.pyplot as plt\n",
        "\n",
        "from sklearn.model_selection import train_test_split, GridSearchCV\n",
        "from sklearn.pipeline import make_pipeline\n",
        "from sklearn.compose import make_column_selector, make_column_transformer\n",
        "from sklearn.impute import SimpleImputer\n",
        "from sklearn.preprocessing import OneHotEncoder\n",
        "from sklearn.preprocessing import StandardScaler\n",
        "from sklearn.tree import DecisionTreeClassifier\n",
        "from sklearn.ensemble import BaggingClassifier\n",
        "from sklearn.ensemble import RandomForestClassifier\n",
        "from sklearn.metrics import classification_report\n",
        "from lightgbm import LGBMClassifier\n",
        "from xgboost import XGBClassifier\n",
        "from sklearn.ensemble import GradientBoostingClassifier\n",
        "from sklearn.dummy import DummyClassifier\n",
        "from sklearn.model_selection import GridSearchCV"
      ]
    },
    {
      "cell_type": "code",
      "source": [
        "from google.colab import drive\n",
        "drive.mount('/content/drive')"
      ],
      "metadata": {
        "colab": {
          "base_uri": "https://localhost:8080/"
        },
        "id": "ma0gG5_MP_sW",
        "outputId": "6f087b8b-77ee-4a15-8aa7-b5c75976fa09"
      },
      "execution_count": 339,
      "outputs": [
        {
          "output_type": "stream",
          "name": "stdout",
          "text": [
            "Drive already mounted at /content/drive; to attempt to forcibly remount, call drive.mount(\"/content/drive\", force_remount=True).\n"
          ]
        }
      ]
    },
    {
      "cell_type": "code",
      "execution_count": 340,
      "metadata": {
        "colab": {
          "base_uri": "https://localhost:8080/",
          "height": 206
        },
        "id": "p7kxwLiUKi2o",
        "outputId": "49ee081e-9539-4d02-8eba-a65b5a5aa338"
      },
      "outputs": [
        {
          "output_type": "execute_result",
          "data": {
            "text/html": [
              "\n",
              "  <div id=\"df-da924085-ec06-4fbb-826d-3daa802268bd\">\n",
              "    <div class=\"colab-df-container\">\n",
              "      <div>\n",
              "<style scoped>\n",
              "    .dataframe tbody tr th:only-of-type {\n",
              "        vertical-align: middle;\n",
              "    }\n",
              "\n",
              "    .dataframe tbody tr th {\n",
              "        vertical-align: top;\n",
              "    }\n",
              "\n",
              "    .dataframe thead th {\n",
              "        text-align: right;\n",
              "    }\n",
              "</style>\n",
              "<table border=\"1\" class=\"dataframe\">\n",
              "  <thead>\n",
              "    <tr style=\"text-align: right;\">\n",
              "      <th></th>\n",
              "      <th>ID</th>\n",
              "      <th>Gender</th>\n",
              "      <th>Ever_Married</th>\n",
              "      <th>Age</th>\n",
              "      <th>Graduated</th>\n",
              "      <th>Profession</th>\n",
              "      <th>Work_Experience</th>\n",
              "      <th>Spending_Score</th>\n",
              "      <th>Family_Size</th>\n",
              "      <th>Var_1</th>\n",
              "      <th>Segmentation</th>\n",
              "    </tr>\n",
              "  </thead>\n",
              "  <tbody>\n",
              "    <tr>\n",
              "      <th>0</th>\n",
              "      <td>462809</td>\n",
              "      <td>Male</td>\n",
              "      <td>No</td>\n",
              "      <td>22</td>\n",
              "      <td>No</td>\n",
              "      <td>Healthcare</td>\n",
              "      <td>1.0</td>\n",
              "      <td>Low</td>\n",
              "      <td>4.0</td>\n",
              "      <td>Cat_4</td>\n",
              "      <td>D</td>\n",
              "    </tr>\n",
              "    <tr>\n",
              "      <th>1</th>\n",
              "      <td>462643</td>\n",
              "      <td>Female</td>\n",
              "      <td>Yes</td>\n",
              "      <td>38</td>\n",
              "      <td>Yes</td>\n",
              "      <td>Engineer</td>\n",
              "      <td>NaN</td>\n",
              "      <td>Average</td>\n",
              "      <td>3.0</td>\n",
              "      <td>Cat_4</td>\n",
              "      <td>A</td>\n",
              "    </tr>\n",
              "    <tr>\n",
              "      <th>2</th>\n",
              "      <td>466315</td>\n",
              "      <td>Female</td>\n",
              "      <td>Yes</td>\n",
              "      <td>67</td>\n",
              "      <td>Yes</td>\n",
              "      <td>Engineer</td>\n",
              "      <td>1.0</td>\n",
              "      <td>Low</td>\n",
              "      <td>1.0</td>\n",
              "      <td>Cat_6</td>\n",
              "      <td>B</td>\n",
              "    </tr>\n",
              "    <tr>\n",
              "      <th>3</th>\n",
              "      <td>461735</td>\n",
              "      <td>Male</td>\n",
              "      <td>Yes</td>\n",
              "      <td>67</td>\n",
              "      <td>Yes</td>\n",
              "      <td>Lawyer</td>\n",
              "      <td>0.0</td>\n",
              "      <td>High</td>\n",
              "      <td>2.0</td>\n",
              "      <td>Cat_6</td>\n",
              "      <td>B</td>\n",
              "    </tr>\n",
              "    <tr>\n",
              "      <th>4</th>\n",
              "      <td>462669</td>\n",
              "      <td>Female</td>\n",
              "      <td>Yes</td>\n",
              "      <td>40</td>\n",
              "      <td>Yes</td>\n",
              "      <td>Entertainment</td>\n",
              "      <td>NaN</td>\n",
              "      <td>High</td>\n",
              "      <td>6.0</td>\n",
              "      <td>Cat_6</td>\n",
              "      <td>A</td>\n",
              "    </tr>\n",
              "  </tbody>\n",
              "</table>\n",
              "</div>\n",
              "      <button class=\"colab-df-convert\" onclick=\"convertToInteractive('df-da924085-ec06-4fbb-826d-3daa802268bd')\"\n",
              "              title=\"Convert this dataframe to an interactive table.\"\n",
              "              style=\"display:none;\">\n",
              "        \n",
              "  <svg xmlns=\"http://www.w3.org/2000/svg\" height=\"24px\"viewBox=\"0 0 24 24\"\n",
              "       width=\"24px\">\n",
              "    <path d=\"M0 0h24v24H0V0z\" fill=\"none\"/>\n",
              "    <path d=\"M18.56 5.44l.94 2.06.94-2.06 2.06-.94-2.06-.94-.94-2.06-.94 2.06-2.06.94zm-11 1L8.5 8.5l.94-2.06 2.06-.94-2.06-.94L8.5 2.5l-.94 2.06-2.06.94zm10 10l.94 2.06.94-2.06 2.06-.94-2.06-.94-.94-2.06-.94 2.06-2.06.94z\"/><path d=\"M17.41 7.96l-1.37-1.37c-.4-.4-.92-.59-1.43-.59-.52 0-1.04.2-1.43.59L10.3 9.45l-7.72 7.72c-.78.78-.78 2.05 0 2.83L4 21.41c.39.39.9.59 1.41.59.51 0 1.02-.2 1.41-.59l7.78-7.78 2.81-2.81c.8-.78.8-2.07 0-2.86zM5.41 20L4 18.59l7.72-7.72 1.47 1.35L5.41 20z\"/>\n",
              "  </svg>\n",
              "      </button>\n",
              "      \n",
              "  <style>\n",
              "    .colab-df-container {\n",
              "      display:flex;\n",
              "      flex-wrap:wrap;\n",
              "      gap: 12px;\n",
              "    }\n",
              "\n",
              "    .colab-df-convert {\n",
              "      background-color: #E8F0FE;\n",
              "      border: none;\n",
              "      border-radius: 50%;\n",
              "      cursor: pointer;\n",
              "      display: none;\n",
              "      fill: #1967D2;\n",
              "      height: 32px;\n",
              "      padding: 0 0 0 0;\n",
              "      width: 32px;\n",
              "    }\n",
              "\n",
              "    .colab-df-convert:hover {\n",
              "      background-color: #E2EBFA;\n",
              "      box-shadow: 0px 1px 2px rgba(60, 64, 67, 0.3), 0px 1px 3px 1px rgba(60, 64, 67, 0.15);\n",
              "      fill: #174EA6;\n",
              "    }\n",
              "\n",
              "    [theme=dark] .colab-df-convert {\n",
              "      background-color: #3B4455;\n",
              "      fill: #D2E3FC;\n",
              "    }\n",
              "\n",
              "    [theme=dark] .colab-df-convert:hover {\n",
              "      background-color: #434B5C;\n",
              "      box-shadow: 0px 1px 3px 1px rgba(0, 0, 0, 0.15);\n",
              "      filter: drop-shadow(0px 1px 2px rgba(0, 0, 0, 0.3));\n",
              "      fill: #FFFFFF;\n",
              "    }\n",
              "  </style>\n",
              "\n",
              "      <script>\n",
              "        const buttonEl =\n",
              "          document.querySelector('#df-da924085-ec06-4fbb-826d-3daa802268bd button.colab-df-convert');\n",
              "        buttonEl.style.display =\n",
              "          google.colab.kernel.accessAllowed ? 'block' : 'none';\n",
              "\n",
              "        async function convertToInteractive(key) {\n",
              "          const element = document.querySelector('#df-da924085-ec06-4fbb-826d-3daa802268bd');\n",
              "          const dataTable =\n",
              "            await google.colab.kernel.invokeFunction('convertToInteractive',\n",
              "                                                     [key], {});\n",
              "          if (!dataTable) return;\n",
              "\n",
              "          const docLinkHtml = 'Like what you see? Visit the ' +\n",
              "            '<a target=\"_blank\" href=https://colab.research.google.com/notebooks/data_table.ipynb>data table notebook</a>'\n",
              "            + ' to learn more about interactive tables.';\n",
              "          element.innerHTML = '';\n",
              "          dataTable['output_type'] = 'display_data';\n",
              "          await google.colab.output.renderOutput(dataTable, element);\n",
              "          const docLink = document.createElement('div');\n",
              "          docLink.innerHTML = docLinkHtml;\n",
              "          element.appendChild(docLink);\n",
              "        }\n",
              "      </script>\n",
              "    </div>\n",
              "  </div>\n",
              "  "
            ],
            "text/plain": [
              "       ID  Gender Ever_Married  ...  Family_Size  Var_1 Segmentation\n",
              "0  462809    Male           No  ...          4.0  Cat_4            D\n",
              "1  462643  Female          Yes  ...          3.0  Cat_4            A\n",
              "2  466315  Female          Yes  ...          1.0  Cat_6            B\n",
              "3  461735    Male          Yes  ...          2.0  Cat_6            B\n",
              "4  462669  Female          Yes  ...          6.0  Cat_6            A\n",
              "\n",
              "[5 rows x 11 columns]"
            ]
          },
          "metadata": {},
          "execution_count": 340
        }
      ],
      "source": [
        "df = pd.read_csv('/content/drive/MyDrive/codingDojo/data_science/project_2/cars_Train.csv')\n",
        "df.head()"
      ]
    },
    {
      "cell_type": "code",
      "source": [
        "#Droping ID column\n",
        "df.drop(columns='ID', inplace=True)"
      ],
      "metadata": {
        "id": "b0TFixNMQqLF"
      },
      "execution_count": 341,
      "outputs": []
    },
    {
      "cell_type": "markdown",
      "metadata": {
        "id": "uNoyW80nKyjC"
      },
      "source": [
        "This is a classification problem with target \"Segmentation\" column (A, B, C, D )."
      ]
    },
    {
      "cell_type": "code",
      "execution_count": 342,
      "metadata": {
        "colab": {
          "base_uri": "https://localhost:8080/"
        },
        "id": "xCpR0aS5LBfi",
        "outputId": "0df2ab0c-3801-4f0f-f060-36991c074894"
      },
      "outputs": [
        {
          "output_type": "stream",
          "name": "stdout",
          "text": [
            "<class 'pandas.core.frame.DataFrame'>\n",
            "RangeIndex: 8068 entries, 0 to 8067\n",
            "Data columns (total 10 columns):\n",
            " #   Column           Non-Null Count  Dtype  \n",
            "---  ------           --------------  -----  \n",
            " 0   Gender           8068 non-null   object \n",
            " 1   Ever_Married     7928 non-null   object \n",
            " 2   Age              8068 non-null   int64  \n",
            " 3   Graduated        7990 non-null   object \n",
            " 4   Profession       7944 non-null   object \n",
            " 5   Work_Experience  7239 non-null   float64\n",
            " 6   Spending_Score   8068 non-null   object \n",
            " 7   Family_Size      7733 non-null   float64\n",
            " 8   Var_1            7992 non-null   object \n",
            " 9   Segmentation     8068 non-null   object \n",
            "dtypes: float64(2), int64(1), object(7)\n",
            "memory usage: 630.4+ KB\n"
          ]
        }
      ],
      "source": [
        "df.info()"
      ]
    },
    {
      "cell_type": "markdown",
      "metadata": {
        "id": "KB9ru1peLGgU"
      },
      "source": [
        "This datasrt has 11 features and 8068 rows of data."
      ]
    },
    {
      "cell_type": "code",
      "execution_count": 343,
      "metadata": {
        "colab": {
          "base_uri": "https://localhost:8080/"
        },
        "id": "2PtKEUs0LOwO",
        "outputId": "9688b152-0de4-418c-dd5a-7fc9f0affdb9"
      },
      "outputs": [
        {
          "output_type": "execute_result",
          "data": {
            "text/plain": [
              "Gender               0\n",
              "Ever_Married       140\n",
              "Age                  0\n",
              "Graduated           78\n",
              "Profession         124\n",
              "Work_Experience    829\n",
              "Spending_Score       0\n",
              "Family_Size        335\n",
              "Var_1               76\n",
              "Segmentation         0\n",
              "dtype: int64"
            ]
          },
          "metadata": {},
          "execution_count": 343
        }
      ],
      "source": [
        "df.isnull().sum()"
      ]
    },
    {
      "cell_type": "code",
      "execution_count": 344,
      "metadata": {
        "colab": {
          "base_uri": "https://localhost:8080/"
        },
        "id": "1W4iaFZzLTFl",
        "outputId": "b206c9fa-e68f-461d-835d-6a341e668e49"
      },
      "outputs": [
        {
          "output_type": "execute_result",
          "data": {
            "text/plain": [
              "417"
            ]
          },
          "metadata": {},
          "execution_count": 344
        }
      ],
      "source": [
        "df.duplicated().sum()"
      ]
    },
    {
      "cell_type": "code",
      "source": [
        "df.drop_duplicates(inplace=True)"
      ],
      "metadata": {
        "id": "SjceepjTTxNJ"
      },
      "execution_count": 345,
      "outputs": []
    },
    {
      "cell_type": "code",
      "source": [
        "df.duplicated().sum()"
      ],
      "metadata": {
        "colab": {
          "base_uri": "https://localhost:8080/"
        },
        "id": "f6Zrn1kAUCPw",
        "outputId": "cfe03f46-3947-4285-9bc3-a126f5152df3"
      },
      "execution_count": 346,
      "outputs": [
        {
          "output_type": "execute_result",
          "data": {
            "text/plain": [
              "0"
            ]
          },
          "metadata": {},
          "execution_count": 346
        }
      ]
    },
    {
      "cell_type": "code",
      "execution_count": 347,
      "metadata": {
        "colab": {
          "base_uri": "https://localhost:8080/",
          "height": 300
        },
        "id": "igdDhgvgPwB-",
        "outputId": "110d66d6-fd1f-4249-98a3-6c9fd63afde8"
      },
      "outputs": [
        {
          "output_type": "execute_result",
          "data": {
            "text/html": [
              "\n",
              "  <div id=\"df-e384bc70-e591-40a1-aba3-c7cdf0c567e7\">\n",
              "    <div class=\"colab-df-container\">\n",
              "      <div>\n",
              "<style scoped>\n",
              "    .dataframe tbody tr th:only-of-type {\n",
              "        vertical-align: middle;\n",
              "    }\n",
              "\n",
              "    .dataframe tbody tr th {\n",
              "        vertical-align: top;\n",
              "    }\n",
              "\n",
              "    .dataframe thead th {\n",
              "        text-align: right;\n",
              "    }\n",
              "</style>\n",
              "<table border=\"1\" class=\"dataframe\">\n",
              "  <thead>\n",
              "    <tr style=\"text-align: right;\">\n",
              "      <th></th>\n",
              "      <th>Age</th>\n",
              "      <th>Work_Experience</th>\n",
              "      <th>Family_Size</th>\n",
              "    </tr>\n",
              "  </thead>\n",
              "  <tbody>\n",
              "    <tr>\n",
              "      <th>count</th>\n",
              "      <td>7651.000000</td>\n",
              "      <td>6845.000000</td>\n",
              "      <td>7319.000000</td>\n",
              "    </tr>\n",
              "    <tr>\n",
              "      <th>mean</th>\n",
              "      <td>43.584368</td>\n",
              "      <td>2.728415</td>\n",
              "      <td>2.852712</td>\n",
              "    </tr>\n",
              "    <tr>\n",
              "      <th>std</th>\n",
              "      <td>16.525300</td>\n",
              "      <td>3.449225</td>\n",
              "      <td>1.549283</td>\n",
              "    </tr>\n",
              "    <tr>\n",
              "      <th>min</th>\n",
              "      <td>18.000000</td>\n",
              "      <td>0.000000</td>\n",
              "      <td>1.000000</td>\n",
              "    </tr>\n",
              "    <tr>\n",
              "      <th>25%</th>\n",
              "      <td>31.000000</td>\n",
              "      <td>0.000000</td>\n",
              "      <td>2.000000</td>\n",
              "    </tr>\n",
              "    <tr>\n",
              "      <th>50%</th>\n",
              "      <td>40.000000</td>\n",
              "      <td>1.000000</td>\n",
              "      <td>3.000000</td>\n",
              "    </tr>\n",
              "    <tr>\n",
              "      <th>75%</th>\n",
              "      <td>53.000000</td>\n",
              "      <td>5.000000</td>\n",
              "      <td>4.000000</td>\n",
              "    </tr>\n",
              "    <tr>\n",
              "      <th>max</th>\n",
              "      <td>89.000000</td>\n",
              "      <td>14.000000</td>\n",
              "      <td>9.000000</td>\n",
              "    </tr>\n",
              "  </tbody>\n",
              "</table>\n",
              "</div>\n",
              "      <button class=\"colab-df-convert\" onclick=\"convertToInteractive('df-e384bc70-e591-40a1-aba3-c7cdf0c567e7')\"\n",
              "              title=\"Convert this dataframe to an interactive table.\"\n",
              "              style=\"display:none;\">\n",
              "        \n",
              "  <svg xmlns=\"http://www.w3.org/2000/svg\" height=\"24px\"viewBox=\"0 0 24 24\"\n",
              "       width=\"24px\">\n",
              "    <path d=\"M0 0h24v24H0V0z\" fill=\"none\"/>\n",
              "    <path d=\"M18.56 5.44l.94 2.06.94-2.06 2.06-.94-2.06-.94-.94-2.06-.94 2.06-2.06.94zm-11 1L8.5 8.5l.94-2.06 2.06-.94-2.06-.94L8.5 2.5l-.94 2.06-2.06.94zm10 10l.94 2.06.94-2.06 2.06-.94-2.06-.94-.94-2.06-.94 2.06-2.06.94z\"/><path d=\"M17.41 7.96l-1.37-1.37c-.4-.4-.92-.59-1.43-.59-.52 0-1.04.2-1.43.59L10.3 9.45l-7.72 7.72c-.78.78-.78 2.05 0 2.83L4 21.41c.39.39.9.59 1.41.59.51 0 1.02-.2 1.41-.59l7.78-7.78 2.81-2.81c.8-.78.8-2.07 0-2.86zM5.41 20L4 18.59l7.72-7.72 1.47 1.35L5.41 20z\"/>\n",
              "  </svg>\n",
              "      </button>\n",
              "      \n",
              "  <style>\n",
              "    .colab-df-container {\n",
              "      display:flex;\n",
              "      flex-wrap:wrap;\n",
              "      gap: 12px;\n",
              "    }\n",
              "\n",
              "    .colab-df-convert {\n",
              "      background-color: #E8F0FE;\n",
              "      border: none;\n",
              "      border-radius: 50%;\n",
              "      cursor: pointer;\n",
              "      display: none;\n",
              "      fill: #1967D2;\n",
              "      height: 32px;\n",
              "      padding: 0 0 0 0;\n",
              "      width: 32px;\n",
              "    }\n",
              "\n",
              "    .colab-df-convert:hover {\n",
              "      background-color: #E2EBFA;\n",
              "      box-shadow: 0px 1px 2px rgba(60, 64, 67, 0.3), 0px 1px 3px 1px rgba(60, 64, 67, 0.15);\n",
              "      fill: #174EA6;\n",
              "    }\n",
              "\n",
              "    [theme=dark] .colab-df-convert {\n",
              "      background-color: #3B4455;\n",
              "      fill: #D2E3FC;\n",
              "    }\n",
              "\n",
              "    [theme=dark] .colab-df-convert:hover {\n",
              "      background-color: #434B5C;\n",
              "      box-shadow: 0px 1px 3px 1px rgba(0, 0, 0, 0.15);\n",
              "      filter: drop-shadow(0px 1px 2px rgba(0, 0, 0, 0.3));\n",
              "      fill: #FFFFFF;\n",
              "    }\n",
              "  </style>\n",
              "\n",
              "      <script>\n",
              "        const buttonEl =\n",
              "          document.querySelector('#df-e384bc70-e591-40a1-aba3-c7cdf0c567e7 button.colab-df-convert');\n",
              "        buttonEl.style.display =\n",
              "          google.colab.kernel.accessAllowed ? 'block' : 'none';\n",
              "\n",
              "        async function convertToInteractive(key) {\n",
              "          const element = document.querySelector('#df-e384bc70-e591-40a1-aba3-c7cdf0c567e7');\n",
              "          const dataTable =\n",
              "            await google.colab.kernel.invokeFunction('convertToInteractive',\n",
              "                                                     [key], {});\n",
              "          if (!dataTable) return;\n",
              "\n",
              "          const docLinkHtml = 'Like what you see? Visit the ' +\n",
              "            '<a target=\"_blank\" href=https://colab.research.google.com/notebooks/data_table.ipynb>data table notebook</a>'\n",
              "            + ' to learn more about interactive tables.';\n",
              "          element.innerHTML = '';\n",
              "          dataTable['output_type'] = 'display_data';\n",
              "          await google.colab.output.renderOutput(dataTable, element);\n",
              "          const docLink = document.createElement('div');\n",
              "          docLink.innerHTML = docLinkHtml;\n",
              "          element.appendChild(docLink);\n",
              "        }\n",
              "      </script>\n",
              "    </div>\n",
              "  </div>\n",
              "  "
            ],
            "text/plain": [
              "               Age  Work_Experience  Family_Size\n",
              "count  7651.000000      6845.000000  7319.000000\n",
              "mean     43.584368         2.728415     2.852712\n",
              "std      16.525300         3.449225     1.549283\n",
              "min      18.000000         0.000000     1.000000\n",
              "25%      31.000000         0.000000     2.000000\n",
              "50%      40.000000         1.000000     3.000000\n",
              "75%      53.000000         5.000000     4.000000\n",
              "max      89.000000        14.000000     9.000000"
            ]
          },
          "metadata": {},
          "execution_count": 347
        }
      ],
      "source": [
        "df.describe()"
      ]
    },
    {
      "cell_type": "markdown",
      "metadata": {
        "id": "FuydpqHcPwB-"
      },
      "source": [
        "Age ranges from 18 to 89, work experiance from 0 to 14 and family size from 1 to 9. "
      ]
    },
    {
      "cell_type": "code",
      "source": [
        "#plot the distribution of numerical features\n",
        "df.hist(bins=50,figsize=(10,10),grid=False)\n",
        "plt.tight_layout()\n",
        "plt.show()"
      ],
      "metadata": {
        "colab": {
          "base_uri": "https://localhost:8080/",
          "height": 729
        },
        "id": "HJa3ty3pXIpt",
        "outputId": "d3c50cbd-d0ca-4bf2-b8c8-3688a2bc2a6d"
      },
      "execution_count": 348,
      "outputs": [
        {
          "output_type": "display_data",
          "data": {
            "image/png": "[encoded data removed]",
            "text/plain": [
              "<Figure size 720x720 with 4 Axes>"
            ]
          },
          "metadata": {
            "needs_background": "light"
          }
        }
      ]
    },
    {
      "cell_type": "code",
      "execution_count": 349,
      "metadata": {
        "colab": {
          "base_uri": "https://localhost:8080/"
        },
        "id": "9bQWrNBaLcOu",
        "outputId": "0b8798d7-f9b7-481b-88ce-b8d74068ca30"
      },
      "outputs": [
        {
          "output_type": "execute_result",
          "data": {
            "text/plain": [
              "D    2096\n",
              "A    1920\n",
              "C    1821\n",
              "B    1814\n",
              "Name: Segmentation, dtype: int64"
            ]
          },
          "metadata": {},
          "execution_count": 349
        }
      ],
      "source": [
        "df['Segmentation'].value_counts()"
      ]
    },
    {
      "cell_type": "code",
      "execution_count": 350,
      "metadata": {
        "colab": {
          "base_uri": "https://localhost:8080/",
          "height": 334
        },
        "id": "-Wp1F6x5PwB_",
        "outputId": "97b9eb53-98f4-4daf-9694-a2d36b5dfedd"
      },
      "outputs": [
        {
          "output_type": "stream",
          "name": "stderr",
          "text": [
            "/usr/local/lib/python3.7/dist-packages/seaborn/_decorators.py:43: FutureWarning: Pass the following variable as a keyword arg: x. From version 0.12, the only valid positional argument will be `data`, and passing other arguments without an explicit keyword will result in an error or misinterpretation.\n",
            "  FutureWarning\n"
          ]
        },
        {
          "output_type": "display_data",
          "data": {
            "image/png": "[encoded data removed]",
            "text/plain": [
              "<Figure size 432x288 with 1 Axes>"
            ]
          },
          "metadata": {
            "needs_background": "light"
          }
        }
      ],
      "source": [
        "sns.countplot(df['Segmentation']);"
      ]
    },
    {
      "cell_type": "markdown",
      "metadata": {
        "id": "fI7Ega9xPwCA"
      },
      "source": [
        "Dataset looks balanced"
      ]
    },
    {
      "cell_type": "code",
      "execution_count": 351,
      "metadata": {
        "colab": {
          "base_uri": "https://localhost:8080/"
        },
        "id": "G5q8th-4PwCA",
        "outputId": "f2dc2518-2e13-4664-c5d7-0a27231032e9"
      },
      "outputs": [
        {
          "output_type": "execute_result",
          "data": {
            "text/plain": [
              "Male      4163\n",
              "Female    3488\n",
              "Name: Gender, dtype: int64"
            ]
          },
          "metadata": {},
          "execution_count": 351
        }
      ],
      "source": [
        "df['Gender'].value_counts()"
      ]
    },
    {
      "cell_type": "code",
      "execution_count": 352,
      "metadata": {
        "colab": {
          "base_uri": "https://localhost:8080/",
          "height": 334
        },
        "id": "ImyuKdi4PwCB",
        "outputId": "a5853169-42f5-4987-b268-1acc333b40be"
      },
      "outputs": [
        {
          "output_type": "stream",
          "name": "stderr",
          "text": [
            "/usr/local/lib/python3.7/dist-packages/seaborn/_decorators.py:43: FutureWarning: Pass the following variable as a keyword arg: x. From version 0.12, the only valid positional argument will be `data`, and passing other arguments without an explicit keyword will result in an error or misinterpretation.\n",
            "  FutureWarning\n"
          ]
        },
        {
          "output_type": "display_data",
          "data": {
            "image/png": "[encoded data removed]",
            "text/plain": [
              "<Figure size 432x288 with 1 Axes>"
            ]
          },
          "metadata": {
            "needs_background": "light"
          }
        }
      ],
      "source": [
        "sns.countplot('Gender', hue='Segmentation', data=df, hue_order=['A','B','C','D']);"
      ]
    },
    {
      "cell_type": "markdown",
      "metadata": {
        "id": "7TJ7DXGhPwCB"
      },
      "source": [
        "There is more Male buyers overall especialy in \"D\" segment."
      ]
    },
    {
      "cell_type": "code",
      "execution_count": 353,
      "metadata": {
        "colab": {
          "base_uri": "https://localhost:8080/"
        },
        "id": "tG45hQ40PwCC",
        "outputId": "134bc3d4-163e-457d-dd31-3936b090079e"
      },
      "outputs": [
        {
          "output_type": "execute_result",
          "data": {
            "text/plain": [
              "Yes    4437\n",
              "No     3074\n",
              "Name: Ever_Married, dtype: int64"
            ]
          },
          "metadata": {},
          "execution_count": 353
        }
      ],
      "source": [
        "df['Ever_Married'].value_counts()"
      ]
    },
    {
      "cell_type": "code",
      "execution_count": 354,
      "metadata": {
        "colab": {
          "base_uri": "https://localhost:8080/",
          "height": 335
        },
        "id": "Ar76z_73PwCC",
        "outputId": "9fa0286c-04fc-4a2e-a622-3dc03f4571a9"
      },
      "outputs": [
        {
          "output_type": "stream",
          "name": "stderr",
          "text": [
            "/usr/local/lib/python3.7/dist-packages/seaborn/_decorators.py:43: FutureWarning: Pass the following variable as a keyword arg: x. From version 0.12, the only valid positional argument will be `data`, and passing other arguments without an explicit keyword will result in an error or misinterpretation.\n",
            "  FutureWarning\n"
          ]
        },
        {
          "output_type": "display_data",
          "data": {
            "image/png": "[encoded data removed]",
            "text/plain": [
              "<Figure size 432x288 with 1 Axes>"
            ]
          },
          "metadata": {
            "needs_background": "light"
          }
        }
      ],
      "source": [
        "sns.countplot('Ever_Married', hue='Segmentation', data=df, hue_order=['A','B','C','D']);"
      ]
    },
    {
      "cell_type": "markdown",
      "metadata": {
        "id": "ShInI5yUPwCC"
      },
      "source": [
        "Also majority of not-married customers are in \"D\" segment."
      ]
    },
    {
      "cell_type": "code",
      "execution_count": 355,
      "metadata": {
        "colab": {
          "base_uri": "https://localhost:8080/"
        },
        "id": "QwCcpYTbPwCC",
        "outputId": "72b2d18a-266a-4910-83fc-6e3c267243f1"
      },
      "outputs": [
        {
          "output_type": "execute_result",
          "data": {
            "text/plain": [
              "Artist           2360\n",
              "Healthcare       1173\n",
              "Entertainment     934\n",
              "Engineer          689\n",
              "Doctor            682\n",
              "Lawyer            581\n",
              "Executive         575\n",
              "Marketing         290\n",
              "Homemaker         243\n",
              "Name: Profession, dtype: int64"
            ]
          },
          "metadata": {},
          "execution_count": 355
        }
      ],
      "source": [
        "df['Profession'].value_counts()"
      ]
    },
    {
      "cell_type": "code",
      "execution_count": 356,
      "metadata": {
        "colab": {
          "base_uri": "https://localhost:8080/",
          "height": 279
        },
        "id": "oXYodMFFPwCD",
        "outputId": "9e8f45ff-3c4b-44bd-e989-e7a451e70a07"
      },
      "outputs": [
        {
          "output_type": "display_data",
          "data": {
            "image/png": "[encoded data removed]",
            "text/plain": [
              "<Figure size 432x288 with 1 Axes>"
            ]
          },
          "metadata": {
            "needs_background": "light"
          }
        }
      ],
      "source": [
        "sns.countplot(y='Profession', hue='Segmentation', data=df, hue_order=['A','B','C','D']);"
      ]
    },
    {
      "cell_type": "markdown",
      "metadata": {
        "id": "6uPPNKsUPwCD"
      },
      "source": [
        "Most of \"D\" segment customers employed in healthcare, \"C\" segment mostly artist, also there is many artists in \"A\" and \"B\" segment."
      ]
    },
    {
      "cell_type": "code",
      "execution_count": 357,
      "metadata": {
        "colab": {
          "base_uri": "https://localhost:8080/"
        },
        "id": "Ryb2-BA3PwCD",
        "outputId": "eac4a48e-9d81-42a4-f231-f0de4acd6c45"
      },
      "outputs": [
        {
          "output_type": "execute_result",
          "data": {
            "text/plain": [
              "Cat_6    4860\n",
              "Cat_4    1074\n",
              "Cat_3     811\n",
              "Cat_2     412\n",
              "Cat_7     203\n",
              "Cat_1     131\n",
              "Cat_5      84\n",
              "Name: Var_1, dtype: int64"
            ]
          },
          "metadata": {},
          "execution_count": 357
        }
      ],
      "source": [
        "df['Var_1'].value_counts()"
      ]
    },
    {
      "cell_type": "code",
      "execution_count": 358,
      "metadata": {
        "colab": {
          "base_uri": "https://localhost:8080/",
          "height": 337
        },
        "id": "pratlGrIPwCD",
        "outputId": "c13d17a2-a2d3-4dda-fe96-08af8f1640aa"
      },
      "outputs": [
        {
          "output_type": "stream",
          "name": "stderr",
          "text": [
            "/usr/local/lib/python3.7/dist-packages/seaborn/_decorators.py:43: FutureWarning: Pass the following variable as a keyword arg: x. From version 0.12, the only valid positional argument will be `data`, and passing other arguments without an explicit keyword will result in an error or misinterpretation.\n",
            "  FutureWarning\n"
          ]
        },
        {
          "output_type": "display_data",
          "data": {
            "image/png": "[encoded data removed]",
            "text/plain": [
              "<Figure size 432x288 with 1 Axes>"
            ]
          },
          "metadata": {
            "needs_background": "light"
          }
        }
      ],
      "source": [
        "sns.countplot('Var_1', hue='Segmentation', data=df, hue_order=['A','B','C','D']);"
      ]
    },
    {
      "cell_type": "markdown",
      "metadata": {
        "id": "bMcmhkd1PwCE"
      },
      "source": [
        "Most of the segments are in \"cat_6\"."
      ]
    },
    {
      "cell_type": "code",
      "execution_count": 359,
      "metadata": {
        "colab": {
          "base_uri": "https://localhost:8080/"
        },
        "id": "R1sEYbHEPwCE",
        "outputId": "f789923a-62ec-4b74-b564-fc55f8f1ca35"
      },
      "outputs": [
        {
          "output_type": "execute_result",
          "data": {
            "text/plain": [
              "Yes    4725\n",
              "No     2848\n",
              "Name: Graduated, dtype: int64"
            ]
          },
          "metadata": {},
          "execution_count": 359
        }
      ],
      "source": [
        "df['Graduated'].value_counts()"
      ]
    },
    {
      "cell_type": "code",
      "execution_count": 360,
      "metadata": {
        "colab": {
          "base_uri": "https://localhost:8080/",
          "height": 334
        },
        "id": "gWXy3iruPwCE",
        "outputId": "94ad1066-76c2-46c6-c782-51b0924b75ab"
      },
      "outputs": [
        {
          "output_type": "stream",
          "name": "stderr",
          "text": [
            "/usr/local/lib/python3.7/dist-packages/seaborn/_decorators.py:43: FutureWarning: Pass the following variable as a keyword arg: x. From version 0.12, the only valid positional argument will be `data`, and passing other arguments without an explicit keyword will result in an error or misinterpretation.\n",
            "  FutureWarning\n"
          ]
        },
        {
          "output_type": "display_data",
          "data": {
            "image/png": "[encoded data removed]",
            "text/plain": [
              "<Figure size 432x288 with 1 Axes>"
            ]
          },
          "metadata": {
            "needs_background": "light"
          }
        }
      ],
      "source": [
        "sns.countplot('Graduated', hue='Segmentation', data=df, hue_order=['A','B','C','D']);"
      ]
    },
    {
      "cell_type": "markdown",
      "metadata": {
        "id": "0cZbUrjHPwCE"
      },
      "source": [
        "Majority of \"D\" segment are not gratuated. The majority of other segments are."
      ]
    },
    {
      "cell_type": "code",
      "execution_count": 361,
      "metadata": {
        "colab": {
          "base_uri": "https://localhost:8080/"
        },
        "id": "qocOo828PwCE",
        "outputId": "5d593907-d64d-48ef-8af5-f05a8943a4e6"
      },
      "outputs": [
        {
          "output_type": "execute_result",
          "data": {
            "text/plain": [
              "1.0     2170\n",
              "0.0     2149\n",
              "9.0      460\n",
              "8.0      457\n",
              "2.0      282\n",
              "3.0      251\n",
              "4.0      248\n",
              "6.0      203\n",
              "7.0      192\n",
              "5.0      191\n",
              "10.0      53\n",
              "11.0      50\n",
              "12.0      48\n",
              "13.0      46\n",
              "14.0      45\n",
              "Name: Work_Experience, dtype: int64"
            ]
          },
          "metadata": {},
          "execution_count": 361
        }
      ],
      "source": [
        "df['Work_Experience'].value_counts()"
      ]
    },
    {
      "cell_type": "code",
      "execution_count": 362,
      "metadata": {
        "colab": {
          "base_uri": "https://localhost:8080/",
          "height": 279
        },
        "id": "0nUSEfCKPwCF",
        "outputId": "6d8f126c-7251-4f48-dd90-10e4655ef01e"
      },
      "outputs": [
        {
          "output_type": "display_data",
          "data": {
            "image/png": "[encoded data removed]",
            "text/plain": [
              "<Figure size 432x288 with 1 Axes>"
            ]
          },
          "metadata": {
            "needs_background": "light"
          }
        }
      ],
      "source": [
        "sns.countplot(y='Work_Experience', hue='Segmentation', data=df, hue_order=['A','B','C','D']);"
      ]
    },
    {
      "cell_type": "code",
      "source": [
        "df.groupby('Profession').mean()"
      ],
      "metadata": {
        "colab": {
          "base_uri": "https://localhost:8080/",
          "height": 363
        },
        "id": "dZy-G6joeFdY",
        "outputId": "dff307f9-8f7f-4432-d0d1-b2617f0e89c5"
      },
      "execution_count": 363,
      "outputs": [
        {
          "output_type": "execute_result",
          "data": {
            "text/html": [
              "\n",
              "  <div id=\"df-a248e5f5-6a80-4bc5-8e47-5b0b446056b1\">\n",
              "    <div class=\"colab-df-container\">\n",
              "      <div>\n",
              "<style scoped>\n",
              "    .dataframe tbody tr th:only-of-type {\n",
              "        vertical-align: middle;\n",
              "    }\n",
              "\n",
              "    .dataframe tbody tr th {\n",
              "        vertical-align: top;\n",
              "    }\n",
              "\n",
              "    .dataframe thead th {\n",
              "        text-align: right;\n",
              "    }\n",
              "</style>\n",
              "<table border=\"1\" class=\"dataframe\">\n",
              "  <thead>\n",
              "    <tr style=\"text-align: right;\">\n",
              "      <th></th>\n",
              "      <th>Age</th>\n",
              "      <th>Work_Experience</th>\n",
              "      <th>Family_Size</th>\n",
              "    </tr>\n",
              "    <tr>\n",
              "      <th>Profession</th>\n",
              "      <th></th>\n",
              "      <th></th>\n",
              "      <th></th>\n",
              "    </tr>\n",
              "  </thead>\n",
              "  <tbody>\n",
              "    <tr>\n",
              "      <th>Artist</th>\n",
              "      <td>46.168220</td>\n",
              "      <td>2.814849</td>\n",
              "      <td>2.525535</td>\n",
              "    </tr>\n",
              "    <tr>\n",
              "      <th>Doctor</th>\n",
              "      <td>37.249267</td>\n",
              "      <td>2.625000</td>\n",
              "      <td>2.881098</td>\n",
              "    </tr>\n",
              "    <tr>\n",
              "      <th>Engineer</th>\n",
              "      <td>41.801161</td>\n",
              "      <td>2.598706</td>\n",
              "      <td>2.993967</td>\n",
              "    </tr>\n",
              "    <tr>\n",
              "      <th>Entertainment</th>\n",
              "      <td>42.968951</td>\n",
              "      <td>2.782763</td>\n",
              "      <td>2.794183</td>\n",
              "    </tr>\n",
              "    <tr>\n",
              "      <th>Executive</th>\n",
              "      <td>50.928696</td>\n",
              "      <td>2.373016</td>\n",
              "      <td>3.445633</td>\n",
              "    </tr>\n",
              "    <tr>\n",
              "      <th>Healthcare</th>\n",
              "      <td>27.434783</td>\n",
              "      <td>2.830769</td>\n",
              "      <td>3.688347</td>\n",
              "    </tr>\n",
              "    <tr>\n",
              "      <th>Homemaker</th>\n",
              "      <td>38.008230</td>\n",
              "      <td>6.437500</td>\n",
              "      <td>2.252336</td>\n",
              "    </tr>\n",
              "    <tr>\n",
              "      <th>Lawyer</th>\n",
              "      <td>74.903614</td>\n",
              "      <td>1.268000</td>\n",
              "      <td>1.956204</td>\n",
              "    </tr>\n",
              "    <tr>\n",
              "      <th>Marketing</th>\n",
              "      <td>36.900000</td>\n",
              "      <td>2.633466</td>\n",
              "      <td>3.076923</td>\n",
              "    </tr>\n",
              "  </tbody>\n",
              "</table>\n",
              "</div>\n",
              "      <button class=\"colab-df-convert\" onclick=\"convertToInteractive('df-a248e5f5-6a80-4bc5-8e47-5b0b446056b1')\"\n",
              "              title=\"Convert this dataframe to an interactive table.\"\n",
              "              style=\"display:none;\">\n",
              "        \n",
              "  <svg xmlns=\"http://www.w3.org/2000/svg\" height=\"24px\"viewBox=\"0 0 24 24\"\n",
              "       width=\"24px\">\n",
              "    <path d=\"M0 0h24v24H0V0z\" fill=\"none\"/>\n",
              "    <path d=\"M18.56 5.44l.94 2.06.94-2.06 2.06-.94-2.06-.94-.94-2.06-.94 2.06-2.06.94zm-11 1L8.5 8.5l.94-2.06 2.06-.94-2.06-.94L8.5 2.5l-.94 2.06-2.06.94zm10 10l.94 2.06.94-2.06 2.06-.94-2.06-.94-.94-2.06-.94 2.06-2.06.94z\"/><path d=\"M17.41 7.96l-1.37-1.37c-.4-.4-.92-.59-1.43-.59-.52 0-1.04.2-1.43.59L10.3 9.45l-7.72 7.72c-.78.78-.78 2.05 0 2.83L4 21.41c.39.39.9.59 1.41.59.51 0 1.02-.2 1.41-.59l7.78-7.78 2.81-2.81c.8-.78.8-2.07 0-2.86zM5.41 20L4 18.59l7.72-7.72 1.47 1.35L5.41 20z\"/>\n",
              "  </svg>\n",
              "      </button>\n",
              "      \n",
              "  <style>\n",
              "    .colab-df-container {\n",
              "      display:flex;\n",
              "      flex-wrap:wrap;\n",
              "      gap: 12px;\n",
              "    }\n",
              "\n",
              "    .colab-df-convert {\n",
              "      background-color: #E8F0FE;\n",
              "      border: none;\n",
              "      border-radius: 50%;\n",
              "      cursor: pointer;\n",
              "      display: none;\n",
              "      fill: #1967D2;\n",
              "      height: 32px;\n",
              "      padding: 0 0 0 0;\n",
              "      width: 32px;\n",
              "    }\n",
              "\n",
              "    .colab-df-convert:hover {\n",
              "      background-color: #E2EBFA;\n",
              "      box-shadow: 0px 1px 2px rgba(60, 64, 67, 0.3), 0px 1px 3px 1px rgba(60, 64, 67, 0.15);\n",
              "      fill: #174EA6;\n",
              "    }\n",
              "\n",
              "    [theme=dark] .colab-df-convert {\n",
              "      background-color: #3B4455;\n",
              "      fill: #D2E3FC;\n",
              "    }\n",
              "\n",
              "    [theme=dark] .colab-df-convert:hover {\n",
              "      background-color: #434B5C;\n",
              "      box-shadow: 0px 1px 3px 1px rgba(0, 0, 0, 0.15);\n",
              "      filter: drop-shadow(0px 1px 2px rgba(0, 0, 0, 0.3));\n",
              "      fill: #FFFFFF;\n",
              "    }\n",
              "  </style>\n",
              "\n",
              "      <script>\n",
              "        const buttonEl =\n",
              "          document.querySelector('#df-a248e5f5-6a80-4bc5-8e47-5b0b446056b1 button.colab-df-convert');\n",
              "        buttonEl.style.display =\n",
              "          google.colab.kernel.accessAllowed ? 'block' : 'none';\n",
              "\n",
              "        async function convertToInteractive(key) {\n",
              "          const element = document.querySelector('#df-a248e5f5-6a80-4bc5-8e47-5b0b446056b1');\n",
              "          const dataTable =\n",
              "            await google.colab.kernel.invokeFunction('convertToInteractive',\n",
              "                                                     [key], {});\n",
              "          if (!dataTable) return;\n",
              "\n",
              "          const docLinkHtml = 'Like what you see? Visit the ' +\n",
              "            '<a target=\"_blank\" href=https://colab.research.google.com/notebooks/data_table.ipynb>data table notebook</a>'\n",
              "            + ' to learn more about interactive tables.';\n",
              "          element.innerHTML = '';\n",
              "          dataTable['output_type'] = 'display_data';\n",
              "          await google.colab.output.renderOutput(dataTable, element);\n",
              "          const docLink = document.createElement('div');\n",
              "          docLink.innerHTML = docLinkHtml;\n",
              "          element.appendChild(docLink);\n",
              "        }\n",
              "      </script>\n",
              "    </div>\n",
              "  </div>\n",
              "  "
            ],
            "text/plain": [
              "                     Age  Work_Experience  Family_Size\n",
              "Profession                                            \n",
              "Artist         46.168220         2.814849     2.525535\n",
              "Doctor         37.249267         2.625000     2.881098\n",
              "Engineer       41.801161         2.598706     2.993967\n",
              "Entertainment  42.968951         2.782763     2.794183\n",
              "Executive      50.928696         2.373016     3.445633\n",
              "Healthcare     27.434783         2.830769     3.688347\n",
              "Homemaker      38.008230         6.437500     2.252336\n",
              "Lawyer         74.903614         1.268000     1.956204\n",
              "Marketing      36.900000         2.633466     3.076923"
            ]
          },
          "metadata": {},
          "execution_count": 363
        }
      ]
    },
    {
      "cell_type": "code",
      "source": [
        "df.groupby('Age').mean()"
      ],
      "metadata": {
        "colab": {
          "base_uri": "https://localhost:8080/",
          "height": 455
        },
        "id": "NHVfvcAEfOiY",
        "outputId": "1c1c51fd-eea9-4c66-9f65-0806ece7196e"
      },
      "execution_count": 364,
      "outputs": [
        {
          "output_type": "execute_result",
          "data": {
            "text/html": [
              "\n",
              "  <div id=\"df-7afcc192-03da-4ec8-879c-bbb3b5d109e9\">\n",
              "    <div class=\"colab-df-container\">\n",
              "      <div>\n",
              "<style scoped>\n",
              "    .dataframe tbody tr th:only-of-type {\n",
              "        vertical-align: middle;\n",
              "    }\n",
              "\n",
              "    .dataframe tbody tr th {\n",
              "        vertical-align: top;\n",
              "    }\n",
              "\n",
              "    .dataframe thead th {\n",
              "        text-align: right;\n",
              "    }\n",
              "</style>\n",
              "<table border=\"1\" class=\"dataframe\">\n",
              "  <thead>\n",
              "    <tr style=\"text-align: right;\">\n",
              "      <th></th>\n",
              "      <th>Work_Experience</th>\n",
              "      <th>Family_Size</th>\n",
              "    </tr>\n",
              "    <tr>\n",
              "      <th>Age</th>\n",
              "      <th></th>\n",
              "      <th></th>\n",
              "    </tr>\n",
              "  </thead>\n",
              "  <tbody>\n",
              "    <tr>\n",
              "      <th>18</th>\n",
              "      <td>2.905263</td>\n",
              "      <td>4.059406</td>\n",
              "    </tr>\n",
              "    <tr>\n",
              "      <th>19</th>\n",
              "      <td>2.888889</td>\n",
              "      <td>4.137255</td>\n",
              "    </tr>\n",
              "    <tr>\n",
              "      <th>20</th>\n",
              "      <td>2.255556</td>\n",
              "      <td>3.787879</td>\n",
              "    </tr>\n",
              "    <tr>\n",
              "      <th>21</th>\n",
              "      <td>2.418605</td>\n",
              "      <td>4.271739</td>\n",
              "    </tr>\n",
              "    <tr>\n",
              "      <th>22</th>\n",
              "      <td>2.366972</td>\n",
              "      <td>4.043103</td>\n",
              "    </tr>\n",
              "    <tr>\n",
              "      <th>...</th>\n",
              "      <td>...</td>\n",
              "      <td>...</td>\n",
              "    </tr>\n",
              "    <tr>\n",
              "      <th>85</th>\n",
              "      <td>0.705882</td>\n",
              "      <td>1.777778</td>\n",
              "    </tr>\n",
              "    <tr>\n",
              "      <th>86</th>\n",
              "      <td>1.708333</td>\n",
              "      <td>1.807692</td>\n",
              "    </tr>\n",
              "    <tr>\n",
              "      <th>87</th>\n",
              "      <td>0.954545</td>\n",
              "      <td>1.666667</td>\n",
              "    </tr>\n",
              "    <tr>\n",
              "      <th>88</th>\n",
              "      <td>0.750000</td>\n",
              "      <td>1.769231</td>\n",
              "    </tr>\n",
              "    <tr>\n",
              "      <th>89</th>\n",
              "      <td>1.517241</td>\n",
              "      <td>1.966667</td>\n",
              "    </tr>\n",
              "  </tbody>\n",
              "</table>\n",
              "<p>67 rows × 2 columns</p>\n",
              "</div>\n",
              "      <button class=\"colab-df-convert\" onclick=\"convertToInteractive('df-7afcc192-03da-4ec8-879c-bbb3b5d109e9')\"\n",
              "              title=\"Convert this dataframe to an interactive table.\"\n",
              "              style=\"display:none;\">\n",
              "        \n",
              "  <svg xmlns=\"http://www.w3.org/2000/svg\" height=\"24px\"viewBox=\"0 0 24 24\"\n",
              "       width=\"24px\">\n",
              "    <path d=\"M0 0h24v24H0V0z\" fill=\"none\"/>\n",
              "    <path d=\"M18.56 5.44l.94 2.06.94-2.06 2.06-.94-2.06-.94-.94-2.06-.94 2.06-2.06.94zm-11 1L8.5 8.5l.94-2.06 2.06-.94-2.06-.94L8.5 2.5l-.94 2.06-2.06.94zm10 10l.94 2.06.94-2.06 2.06-.94-2.06-.94-.94-2.06-.94 2.06-2.06.94z\"/><path d=\"M17.41 7.96l-1.37-1.37c-.4-.4-.92-.59-1.43-.59-.52 0-1.04.2-1.43.59L10.3 9.45l-7.72 7.72c-.78.78-.78 2.05 0 2.83L4 21.41c.39.39.9.59 1.41.59.51 0 1.02-.2 1.41-.59l7.78-7.78 2.81-2.81c.8-.78.8-2.07 0-2.86zM5.41 20L4 18.59l7.72-7.72 1.47 1.35L5.41 20z\"/>\n",
              "  </svg>\n",
              "      </button>\n",
              "      \n",
              "  <style>\n",
              "    .colab-df-container {\n",
              "      display:flex;\n",
              "      flex-wrap:wrap;\n",
              "      gap: 12px;\n",
              "    }\n",
              "\n",
              "    .colab-df-convert {\n",
              "      background-color: #E8F0FE;\n",
              "      border: none;\n",
              "      border-radius: 50%;\n",
              "      cursor: pointer;\n",
              "      display: none;\n",
              "      fill: #1967D2;\n",
              "      height: 32px;\n",
              "      padding: 0 0 0 0;\n",
              "      width: 32px;\n",
              "    }\n",
              "\n",
              "    .colab-df-convert:hover {\n",
              "      background-color: #E2EBFA;\n",
              "      box-shadow: 0px 1px 2px rgba(60, 64, 67, 0.3), 0px 1px 3px 1px rgba(60, 64, 67, 0.15);\n",
              "      fill: #174EA6;\n",
              "    }\n",
              "\n",
              "    [theme=dark] .colab-df-convert {\n",
              "      background-color: #3B4455;\n",
              "      fill: #D2E3FC;\n",
              "    }\n",
              "\n",
              "    [theme=dark] .colab-df-convert:hover {\n",
              "      background-color: #434B5C;\n",
              "      box-shadow: 0px 1px 3px 1px rgba(0, 0, 0, 0.15);\n",
              "      filter: drop-shadow(0px 1px 2px rgba(0, 0, 0, 0.3));\n",
              "      fill: #FFFFFF;\n",
              "    }\n",
              "  </style>\n",
              "\n",
              "      <script>\n",
              "        const buttonEl =\n",
              "          document.querySelector('#df-7afcc192-03da-4ec8-879c-bbb3b5d109e9 button.colab-df-convert');\n",
              "        buttonEl.style.display =\n",
              "          google.colab.kernel.accessAllowed ? 'block' : 'none';\n",
              "\n",
              "        async function convertToInteractive(key) {\n",
              "          const element = document.querySelector('#df-7afcc192-03da-4ec8-879c-bbb3b5d109e9');\n",
              "          const dataTable =\n",
              "            await google.colab.kernel.invokeFunction('convertToInteractive',\n",
              "                                                     [key], {});\n",
              "          if (!dataTable) return;\n",
              "\n",
              "          const docLinkHtml = 'Like what you see? Visit the ' +\n",
              "            '<a target=\"_blank\" href=https://colab.research.google.com/notebooks/data_table.ipynb>data table notebook</a>'\n",
              "            + ' to learn more about interactive tables.';\n",
              "          element.innerHTML = '';\n",
              "          dataTable['output_type'] = 'display_data';\n",
              "          await google.colab.output.renderOutput(dataTable, element);\n",
              "          const docLink = document.createElement('div');\n",
              "          docLink.innerHTML = docLinkHtml;\n",
              "          element.appendChild(docLink);\n",
              "        }\n",
              "      </script>\n",
              "    </div>\n",
              "  </div>\n",
              "  "
            ],
            "text/plain": [
              "     Work_Experience  Family_Size\n",
              "Age                              \n",
              "18          2.905263     4.059406\n",
              "19          2.888889     4.137255\n",
              "20          2.255556     3.787879\n",
              "21          2.418605     4.271739\n",
              "22          2.366972     4.043103\n",
              "..               ...          ...\n",
              "85          0.705882     1.777778\n",
              "86          1.708333     1.807692\n",
              "87          0.954545     1.666667\n",
              "88          0.750000     1.769231\n",
              "89          1.517241     1.966667\n",
              "\n",
              "[67 rows x 2 columns]"
            ]
          },
          "metadata": {},
          "execution_count": 364
        }
      ]
    },
    {
      "cell_type": "markdown",
      "source": [
        "For some reason it looks like youngest customers got higher work experiance than older ones."
      ],
      "metadata": {
        "id": "-GHo5Y9ngAys"
      }
    },
    {
      "cell_type": "code",
      "source": [
        "sns.boxplot(x='Age', data=df);"
      ],
      "metadata": {
        "colab": {
          "base_uri": "https://localhost:8080/",
          "height": 279
        },
        "id": "lIWe8x5PghZ6",
        "outputId": "060b20bb-5ae4-48d8-ce86-d9d1f9acccc5"
      },
      "execution_count": 365,
      "outputs": [
        {
          "output_type": "display_data",
          "data": {
            "image/png": "[encoded data removed]",
            "text/plain": [
              "<Figure size 432x288 with 1 Axes>"
            ]
          },
          "metadata": {
            "needs_background": "light"
          }
        }
      ]
    },
    {
      "cell_type": "markdown",
      "source": [
        "Here we can see that the median age for our customers is 40, with most of them in 30 to 50. Also there are some outliers close to 90 y.o."
      ],
      "metadata": {
        "id": "BIUbzUf1h0su"
      }
    },
    {
      "cell_type": "code",
      "source": [
        "df['Age'].value_counts()"
      ],
      "metadata": {
        "colab": {
          "base_uri": "https://localhost:8080/"
        },
        "id": "zOLkkMibtiW7",
        "outputId": "c0b3e054-5e26-4105-efb3-c47e27d0c2fa"
      },
      "execution_count": 366,
      "outputs": [
        {
          "output_type": "execute_result",
          "data": {
            "text/plain": [
              "35    240\n",
              "37    230\n",
              "43    222\n",
              "33    222\n",
              "42    221\n",
              "     ... \n",
              "87     27\n",
              "77     27\n",
              "76     25\n",
              "80     23\n",
              "85     20\n",
              "Name: Age, Length: 67, dtype: int64"
            ]
          },
          "metadata": {},
          "execution_count": 366
        }
      ]
    },
    {
      "cell_type": "code",
      "source": [
        "# Finding outliers\n",
        "age_outl = df[df['Age'] > 87]\n",
        "age_outl"
      ],
      "metadata": {
        "colab": {
          "base_uri": "https://localhost:8080/",
          "height": 424
        },
        "id": "QEKZYYHOtGLj",
        "outputId": "7a6925bd-110d-46a9-b90c-d6a2f58dd1bc"
      },
      "execution_count": 367,
      "outputs": [
        {
          "output_type": "execute_result",
          "data": {
            "text/html": [
              "\n",
              "  <div id=\"df-200336a7-f488-45b1-9d7e-eb8bf626e717\">\n",
              "    <div class=\"colab-df-container\">\n",
              "      <div>\n",
              "<style scoped>\n",
              "    .dataframe tbody tr th:only-of-type {\n",
              "        vertical-align: middle;\n",
              "    }\n",
              "\n",
              "    .dataframe tbody tr th {\n",
              "        vertical-align: top;\n",
              "    }\n",
              "\n",
              "    .dataframe thead th {\n",
              "        text-align: right;\n",
              "    }\n",
              "</style>\n",
              "<table border=\"1\" class=\"dataframe\">\n",
              "  <thead>\n",
              "    <tr style=\"text-align: right;\">\n",
              "      <th></th>\n",
              "      <th>Gender</th>\n",
              "      <th>Ever_Married</th>\n",
              "      <th>Age</th>\n",
              "      <th>Graduated</th>\n",
              "      <th>Profession</th>\n",
              "      <th>Work_Experience</th>\n",
              "      <th>Spending_Score</th>\n",
              "      <th>Family_Size</th>\n",
              "      <th>Var_1</th>\n",
              "      <th>Segmentation</th>\n",
              "    </tr>\n",
              "  </thead>\n",
              "  <tbody>\n",
              "    <tr>\n",
              "      <th>321</th>\n",
              "      <td>Male</td>\n",
              "      <td>Yes</td>\n",
              "      <td>89</td>\n",
              "      <td>Yes</td>\n",
              "      <td>Lawyer</td>\n",
              "      <td>13.0</td>\n",
              "      <td>Low</td>\n",
              "      <td>1.0</td>\n",
              "      <td>Cat_6</td>\n",
              "      <td>A</td>\n",
              "    </tr>\n",
              "    <tr>\n",
              "      <th>395</th>\n",
              "      <td>Female</td>\n",
              "      <td>Yes</td>\n",
              "      <td>89</td>\n",
              "      <td>No</td>\n",
              "      <td>Lawyer</td>\n",
              "      <td>3.0</td>\n",
              "      <td>High</td>\n",
              "      <td>1.0</td>\n",
              "      <td>Cat_6</td>\n",
              "      <td>D</td>\n",
              "    </tr>\n",
              "    <tr>\n",
              "      <th>699</th>\n",
              "      <td>Male</td>\n",
              "      <td>Yes</td>\n",
              "      <td>88</td>\n",
              "      <td>No</td>\n",
              "      <td>Executive</td>\n",
              "      <td>0.0</td>\n",
              "      <td>Low</td>\n",
              "      <td>1.0</td>\n",
              "      <td>Cat_6</td>\n",
              "      <td>A</td>\n",
              "    </tr>\n",
              "    <tr>\n",
              "      <th>753</th>\n",
              "      <td>Female</td>\n",
              "      <td>Yes</td>\n",
              "      <td>88</td>\n",
              "      <td>No</td>\n",
              "      <td>Lawyer</td>\n",
              "      <td>0.0</td>\n",
              "      <td>High</td>\n",
              "      <td>2.0</td>\n",
              "      <td>Cat_6</td>\n",
              "      <td>B</td>\n",
              "    </tr>\n",
              "    <tr>\n",
              "      <th>943</th>\n",
              "      <td>Male</td>\n",
              "      <td>Yes</td>\n",
              "      <td>88</td>\n",
              "      <td>Yes</td>\n",
              "      <td>Lawyer</td>\n",
              "      <td>NaN</td>\n",
              "      <td>Low</td>\n",
              "      <td>NaN</td>\n",
              "      <td>Cat_6</td>\n",
              "      <td>B</td>\n",
              "    </tr>\n",
              "    <tr>\n",
              "      <th>...</th>\n",
              "      <td>...</td>\n",
              "      <td>...</td>\n",
              "      <td>...</td>\n",
              "      <td>...</td>\n",
              "      <td>...</td>\n",
              "      <td>...</td>\n",
              "      <td>...</td>\n",
              "      <td>...</td>\n",
              "      <td>...</td>\n",
              "      <td>...</td>\n",
              "    </tr>\n",
              "    <tr>\n",
              "      <th>7262</th>\n",
              "      <td>Male</td>\n",
              "      <td>Yes</td>\n",
              "      <td>89</td>\n",
              "      <td>No</td>\n",
              "      <td>Lawyer</td>\n",
              "      <td>0.0</td>\n",
              "      <td>Low</td>\n",
              "      <td>NaN</td>\n",
              "      <td>Cat_6</td>\n",
              "      <td>A</td>\n",
              "    </tr>\n",
              "    <tr>\n",
              "      <th>7778</th>\n",
              "      <td>Female</td>\n",
              "      <td>Yes</td>\n",
              "      <td>88</td>\n",
              "      <td>Yes</td>\n",
              "      <td>Lawyer</td>\n",
              "      <td>NaN</td>\n",
              "      <td>High</td>\n",
              "      <td>2.0</td>\n",
              "      <td>Cat_6</td>\n",
              "      <td>C</td>\n",
              "    </tr>\n",
              "    <tr>\n",
              "      <th>7864</th>\n",
              "      <td>Male</td>\n",
              "      <td>Yes</td>\n",
              "      <td>88</td>\n",
              "      <td>Yes</td>\n",
              "      <td>Artist</td>\n",
              "      <td>0.0</td>\n",
              "      <td>High</td>\n",
              "      <td>2.0</td>\n",
              "      <td>Cat_6</td>\n",
              "      <td>C</td>\n",
              "    </tr>\n",
              "    <tr>\n",
              "      <th>7866</th>\n",
              "      <td>Male</td>\n",
              "      <td>Yes</td>\n",
              "      <td>88</td>\n",
              "      <td>Yes</td>\n",
              "      <td>Marketing</td>\n",
              "      <td>0.0</td>\n",
              "      <td>High</td>\n",
              "      <td>2.0</td>\n",
              "      <td>Cat_6</td>\n",
              "      <td>C</td>\n",
              "    </tr>\n",
              "    <tr>\n",
              "      <th>7920</th>\n",
              "      <td>Female</td>\n",
              "      <td>Yes</td>\n",
              "      <td>89</td>\n",
              "      <td>No</td>\n",
              "      <td>Lawyer</td>\n",
              "      <td>1.0</td>\n",
              "      <td>High</td>\n",
              "      <td>2.0</td>\n",
              "      <td>Cat_6</td>\n",
              "      <td>D</td>\n",
              "    </tr>\n",
              "  </tbody>\n",
              "</table>\n",
              "<p>63 rows × 10 columns</p>\n",
              "</div>\n",
              "      <button class=\"colab-df-convert\" onclick=\"convertToInteractive('df-200336a7-f488-45b1-9d7e-eb8bf626e717')\"\n",
              "              title=\"Convert this dataframe to an interactive table.\"\n",
              "              style=\"display:none;\">\n",
              "        \n",
              "  <svg xmlns=\"http://www.w3.org/2000/svg\" height=\"24px\"viewBox=\"0 0 24 24\"\n",
              "       width=\"24px\">\n",
              "    <path d=\"M0 0h24v24H0V0z\" fill=\"none\"/>\n",
              "    <path d=\"M18.56 5.44l.94 2.06.94-2.06 2.06-.94-2.06-.94-.94-2.06-.94 2.06-2.06.94zm-11 1L8.5 8.5l.94-2.06 2.06-.94-2.06-.94L8.5 2.5l-.94 2.06-2.06.94zm10 10l.94 2.06.94-2.06 2.06-.94-2.06-.94-.94-2.06-.94 2.06-2.06.94z\"/><path d=\"M17.41 7.96l-1.37-1.37c-.4-.4-.92-.59-1.43-.59-.52 0-1.04.2-1.43.59L10.3 9.45l-7.72 7.72c-.78.78-.78 2.05 0 2.83L4 21.41c.39.39.9.59 1.41.59.51 0 1.02-.2 1.41-.59l7.78-7.78 2.81-2.81c.8-.78.8-2.07 0-2.86zM5.41 20L4 18.59l7.72-7.72 1.47 1.35L5.41 20z\"/>\n",
              "  </svg>\n",
              "      </button>\n",
              "      \n",
              "  <style>\n",
              "    .colab-df-container {\n",
              "      display:flex;\n",
              "      flex-wrap:wrap;\n",
              "      gap: 12px;\n",
              "    }\n",
              "\n",
              "    .colab-df-convert {\n",
              "      background-color: #E8F0FE;\n",
              "      border: none;\n",
              "      border-radius: 50%;\n",
              "      cursor: pointer;\n",
              "      display: none;\n",
              "      fill: #1967D2;\n",
              "      height: 32px;\n",
              "      padding: 0 0 0 0;\n",
              "      width: 32px;\n",
              "    }\n",
              "\n",
              "    .colab-df-convert:hover {\n",
              "      background-color: #E2EBFA;\n",
              "      box-shadow: 0px 1px 2px rgba(60, 64, 67, 0.3), 0px 1px 3px 1px rgba(60, 64, 67, 0.15);\n",
              "      fill: #174EA6;\n",
              "    }\n",
              "\n",
              "    [theme=dark] .colab-df-convert {\n",
              "      background-color: #3B4455;\n",
              "      fill: #D2E3FC;\n",
              "    }\n",
              "\n",
              "    [theme=dark] .colab-df-convert:hover {\n",
              "      background-color: #434B5C;\n",
              "      box-shadow: 0px 1px 3px 1px rgba(0, 0, 0, 0.15);\n",
              "      filter: drop-shadow(0px 1px 2px rgba(0, 0, 0, 0.3));\n",
              "      fill: #FFFFFF;\n",
              "    }\n",
              "  </style>\n",
              "\n",
              "      <script>\n",
              "        const buttonEl =\n",
              "          document.querySelector('#df-200336a7-f488-45b1-9d7e-eb8bf626e717 button.colab-df-convert');\n",
              "        buttonEl.style.display =\n",
              "          google.colab.kernel.accessAllowed ? 'block' : 'none';\n",
              "\n",
              "        async function convertToInteractive(key) {\n",
              "          const element = document.querySelector('#df-200336a7-f488-45b1-9d7e-eb8bf626e717');\n",
              "          const dataTable =\n",
              "            await google.colab.kernel.invokeFunction('convertToInteractive',\n",
              "                                                     [key], {});\n",
              "          if (!dataTable) return;\n",
              "\n",
              "          const docLinkHtml = 'Like what you see? Visit the ' +\n",
              "            '<a target=\"_blank\" href=https://colab.research.google.com/notebooks/data_table.ipynb>data table notebook</a>'\n",
              "            + ' to learn more about interactive tables.';\n",
              "          element.innerHTML = '';\n",
              "          dataTable['output_type'] = 'display_data';\n",
              "          await google.colab.output.renderOutput(dataTable, element);\n",
              "          const docLink = document.createElement('div');\n",
              "          docLink.innerHTML = docLinkHtml;\n",
              "          element.appendChild(docLink);\n",
              "        }\n",
              "      </script>\n",
              "    </div>\n",
              "  </div>\n",
              "  "
            ],
            "text/plain": [
              "      Gender Ever_Married  Age  ... Family_Size  Var_1  Segmentation\n",
              "321     Male          Yes   89  ...         1.0  Cat_6             A\n",
              "395   Female          Yes   89  ...         1.0  Cat_6             D\n",
              "699     Male          Yes   88  ...         1.0  Cat_6             A\n",
              "753   Female          Yes   88  ...         2.0  Cat_6             B\n",
              "943     Male          Yes   88  ...         NaN  Cat_6             B\n",
              "...      ...          ...  ...  ...         ...    ...           ...\n",
              "7262    Male          Yes   89  ...         NaN  Cat_6             A\n",
              "7778  Female          Yes   88  ...         2.0  Cat_6             C\n",
              "7864    Male          Yes   88  ...         2.0  Cat_6             C\n",
              "7866    Male          Yes   88  ...         2.0  Cat_6             C\n",
              "7920  Female          Yes   89  ...         2.0  Cat_6             D\n",
              "\n",
              "[63 rows x 10 columns]"
            ]
          },
          "metadata": {},
          "execution_count": 367
        }
      ]
    },
    {
      "cell_type": "markdown",
      "source": [
        "This looks very strange to me that a lot of this people of higher age having so little or no work experience especialy being executives, lawyers or working in marketing."
      ],
      "metadata": {
        "id": "A5cnnYifuTDk"
      }
    },
    {
      "cell_type": "code",
      "source": [
        "sns.boxplot(x='Work_Experience', data=df);"
      ],
      "metadata": {
        "colab": {
          "base_uri": "https://localhost:8080/",
          "height": 280
        },
        "id": "jmGkpz1frSJA",
        "outputId": "b5df5ad8-995e-4290-b8ba-e55638b83cbe"
      },
      "execution_count": 368,
      "outputs": [
        {
          "output_type": "display_data",
          "data": {
            "image/png": "[encoded data removed]",
            "text/plain": [
              "<Figure size 432x288 with 1 Axes>"
            ]
          },
          "metadata": {
            "needs_background": "light"
          }
        }
      ]
    },
    {
      "cell_type": "markdown",
      "source": [
        "Majority of our customers have vary little work experience with some outliers with work experience over 12 years."
      ],
      "metadata": {
        "id": "fQO8v8GJroth"
      }
    },
    {
      "cell_type": "code",
      "source": [
        "# Finding outliers\n",
        "we_outl = df[df['Work_Experience'] > 12]\n",
        "we_outl"
      ],
      "metadata": {
        "colab": {
          "base_uri": "https://localhost:8080/",
          "height": 424
        },
        "id": "aRWK4qPsuCNu",
        "outputId": "5f509bfa-3fb2-442c-b429-dcd8b5d9ef37"
      },
      "execution_count": 369,
      "outputs": [
        {
          "output_type": "execute_result",
          "data": {
            "text/html": [
              "\n",
              "  <div id=\"df-e96df04d-5a1c-4312-877f-2b9465576160\">\n",
              "    <div class=\"colab-df-container\">\n",
              "      <div>\n",
              "<style scoped>\n",
              "    .dataframe tbody tr th:only-of-type {\n",
              "        vertical-align: middle;\n",
              "    }\n",
              "\n",
              "    .dataframe tbody tr th {\n",
              "        vertical-align: top;\n",
              "    }\n",
              "\n",
              "    .dataframe thead th {\n",
              "        text-align: right;\n",
              "    }\n",
              "</style>\n",
              "<table border=\"1\" class=\"dataframe\">\n",
              "  <thead>\n",
              "    <tr style=\"text-align: right;\">\n",
              "      <th></th>\n",
              "      <th>Gender</th>\n",
              "      <th>Ever_Married</th>\n",
              "      <th>Age</th>\n",
              "      <th>Graduated</th>\n",
              "      <th>Profession</th>\n",
              "      <th>Work_Experience</th>\n",
              "      <th>Spending_Score</th>\n",
              "      <th>Family_Size</th>\n",
              "      <th>Var_1</th>\n",
              "      <th>Segmentation</th>\n",
              "    </tr>\n",
              "  </thead>\n",
              "  <tbody>\n",
              "    <tr>\n",
              "      <th>22</th>\n",
              "      <td>Male</td>\n",
              "      <td>Yes</td>\n",
              "      <td>33</td>\n",
              "      <td>Yes</td>\n",
              "      <td>Artist</td>\n",
              "      <td>13.0</td>\n",
              "      <td>Low</td>\n",
              "      <td>2.0</td>\n",
              "      <td>Cat_3</td>\n",
              "      <td>A</td>\n",
              "    </tr>\n",
              "    <tr>\n",
              "      <th>42</th>\n",
              "      <td>Female</td>\n",
              "      <td>No</td>\n",
              "      <td>27</td>\n",
              "      <td>Yes</td>\n",
              "      <td>Artist</td>\n",
              "      <td>14.0</td>\n",
              "      <td>Low</td>\n",
              "      <td>3.0</td>\n",
              "      <td>Cat_6</td>\n",
              "      <td>A</td>\n",
              "    </tr>\n",
              "    <tr>\n",
              "      <th>55</th>\n",
              "      <td>Male</td>\n",
              "      <td>Yes</td>\n",
              "      <td>32</td>\n",
              "      <td>Yes</td>\n",
              "      <td>Artist</td>\n",
              "      <td>14.0</td>\n",
              "      <td>Average</td>\n",
              "      <td>2.0</td>\n",
              "      <td>Cat_6</td>\n",
              "      <td>B</td>\n",
              "    </tr>\n",
              "    <tr>\n",
              "      <th>321</th>\n",
              "      <td>Male</td>\n",
              "      <td>Yes</td>\n",
              "      <td>89</td>\n",
              "      <td>Yes</td>\n",
              "      <td>Lawyer</td>\n",
              "      <td>13.0</td>\n",
              "      <td>Low</td>\n",
              "      <td>1.0</td>\n",
              "      <td>Cat_6</td>\n",
              "      <td>A</td>\n",
              "    </tr>\n",
              "    <tr>\n",
              "      <th>338</th>\n",
              "      <td>Female</td>\n",
              "      <td>No</td>\n",
              "      <td>38</td>\n",
              "      <td>Yes</td>\n",
              "      <td>Doctor</td>\n",
              "      <td>14.0</td>\n",
              "      <td>Low</td>\n",
              "      <td>1.0</td>\n",
              "      <td>Cat_6</td>\n",
              "      <td>A</td>\n",
              "    </tr>\n",
              "    <tr>\n",
              "      <th>...</th>\n",
              "      <td>...</td>\n",
              "      <td>...</td>\n",
              "      <td>...</td>\n",
              "      <td>...</td>\n",
              "      <td>...</td>\n",
              "      <td>...</td>\n",
              "      <td>...</td>\n",
              "      <td>...</td>\n",
              "      <td>...</td>\n",
              "      <td>...</td>\n",
              "    </tr>\n",
              "    <tr>\n",
              "      <th>7798</th>\n",
              "      <td>Female</td>\n",
              "      <td>No</td>\n",
              "      <td>36</td>\n",
              "      <td>Yes</td>\n",
              "      <td>Artist</td>\n",
              "      <td>13.0</td>\n",
              "      <td>Low</td>\n",
              "      <td>1.0</td>\n",
              "      <td>Cat_6</td>\n",
              "      <td>D</td>\n",
              "    </tr>\n",
              "    <tr>\n",
              "      <th>7835</th>\n",
              "      <td>Male</td>\n",
              "      <td>Yes</td>\n",
              "      <td>39</td>\n",
              "      <td>Yes</td>\n",
              "      <td>Artist</td>\n",
              "      <td>13.0</td>\n",
              "      <td>Low</td>\n",
              "      <td>2.0</td>\n",
              "      <td>Cat_6</td>\n",
              "      <td>B</td>\n",
              "    </tr>\n",
              "    <tr>\n",
              "      <th>7990</th>\n",
              "      <td>Female</td>\n",
              "      <td>No</td>\n",
              "      <td>43</td>\n",
              "      <td>Yes</td>\n",
              "      <td>Entertainment</td>\n",
              "      <td>14.0</td>\n",
              "      <td>Low</td>\n",
              "      <td>1.0</td>\n",
              "      <td>Cat_6</td>\n",
              "      <td>A</td>\n",
              "    </tr>\n",
              "    <tr>\n",
              "      <th>8028</th>\n",
              "      <td>Male</td>\n",
              "      <td>Yes</td>\n",
              "      <td>40</td>\n",
              "      <td>Yes</td>\n",
              "      <td>Artist</td>\n",
              "      <td>13.0</td>\n",
              "      <td>High</td>\n",
              "      <td>1.0</td>\n",
              "      <td>Cat_4</td>\n",
              "      <td>D</td>\n",
              "    </tr>\n",
              "    <tr>\n",
              "      <th>8043</th>\n",
              "      <td>Male</td>\n",
              "      <td>Yes</td>\n",
              "      <td>39</td>\n",
              "      <td>Yes</td>\n",
              "      <td>Artist</td>\n",
              "      <td>14.0</td>\n",
              "      <td>Average</td>\n",
              "      <td>2.0</td>\n",
              "      <td>Cat_6</td>\n",
              "      <td>B</td>\n",
              "    </tr>\n",
              "  </tbody>\n",
              "</table>\n",
              "<p>91 rows × 10 columns</p>\n",
              "</div>\n",
              "      <button class=\"colab-df-convert\" onclick=\"convertToInteractive('df-e96df04d-5a1c-4312-877f-2b9465576160')\"\n",
              "              title=\"Convert this dataframe to an interactive table.\"\n",
              "              style=\"display:none;\">\n",
              "        \n",
              "  <svg xmlns=\"http://www.w3.org/2000/svg\" height=\"24px\"viewBox=\"0 0 24 24\"\n",
              "       width=\"24px\">\n",
              "    <path d=\"M0 0h24v24H0V0z\" fill=\"none\"/>\n",
              "    <path d=\"M18.56 5.44l.94 2.06.94-2.06 2.06-.94-2.06-.94-.94-2.06-.94 2.06-2.06.94zm-11 1L8.5 8.5l.94-2.06 2.06-.94-2.06-.94L8.5 2.5l-.94 2.06-2.06.94zm10 10l.94 2.06.94-2.06 2.06-.94-2.06-.94-.94-2.06-.94 2.06-2.06.94z\"/><path d=\"M17.41 7.96l-1.37-1.37c-.4-.4-.92-.59-1.43-.59-.52 0-1.04.2-1.43.59L10.3 9.45l-7.72 7.72c-.78.78-.78 2.05 0 2.83L4 21.41c.39.39.9.59 1.41.59.51 0 1.02-.2 1.41-.59l7.78-7.78 2.81-2.81c.8-.78.8-2.07 0-2.86zM5.41 20L4 18.59l7.72-7.72 1.47 1.35L5.41 20z\"/>\n",
              "  </svg>\n",
              "      </button>\n",
              "      \n",
              "  <style>\n",
              "    .colab-df-container {\n",
              "      display:flex;\n",
              "      flex-wrap:wrap;\n",
              "      gap: 12px;\n",
              "    }\n",
              "\n",
              "    .colab-df-convert {\n",
              "      background-color: #E8F0FE;\n",
              "      border: none;\n",
              "      border-radius: 50%;\n",
              "      cursor: pointer;\n",
              "      display: none;\n",
              "      fill: #1967D2;\n",
              "      height: 32px;\n",
              "      padding: 0 0 0 0;\n",
              "      width: 32px;\n",
              "    }\n",
              "\n",
              "    .colab-df-convert:hover {\n",
              "      background-color: #E2EBFA;\n",
              "      box-shadow: 0px 1px 2px rgba(60, 64, 67, 0.3), 0px 1px 3px 1px rgba(60, 64, 67, 0.15);\n",
              "      fill: #174EA6;\n",
              "    }\n",
              "\n",
              "    [theme=dark] .colab-df-convert {\n",
              "      background-color: #3B4455;\n",
              "      fill: #D2E3FC;\n",
              "    }\n",
              "\n",
              "    [theme=dark] .colab-df-convert:hover {\n",
              "      background-color: #434B5C;\n",
              "      box-shadow: 0px 1px 3px 1px rgba(0, 0, 0, 0.15);\n",
              "      filter: drop-shadow(0px 1px 2px rgba(0, 0, 0, 0.3));\n",
              "      fill: #FFFFFF;\n",
              "    }\n",
              "  </style>\n",
              "\n",
              "      <script>\n",
              "        const buttonEl =\n",
              "          document.querySelector('#df-e96df04d-5a1c-4312-877f-2b9465576160 button.colab-df-convert');\n",
              "        buttonEl.style.display =\n",
              "          google.colab.kernel.accessAllowed ? 'block' : 'none';\n",
              "\n",
              "        async function convertToInteractive(key) {\n",
              "          const element = document.querySelector('#df-e96df04d-5a1c-4312-877f-2b9465576160');\n",
              "          const dataTable =\n",
              "            await google.colab.kernel.invokeFunction('convertToInteractive',\n",
              "                                                     [key], {});\n",
              "          if (!dataTable) return;\n",
              "\n",
              "          const docLinkHtml = 'Like what you see? Visit the ' +\n",
              "            '<a target=\"_blank\" href=https://colab.research.google.com/notebooks/data_table.ipynb>data table notebook</a>'\n",
              "            + ' to learn more about interactive tables.';\n",
              "          element.innerHTML = '';\n",
              "          dataTable['output_type'] = 'display_data';\n",
              "          await google.colab.output.renderOutput(dataTable, element);\n",
              "          const docLink = document.createElement('div');\n",
              "          docLink.innerHTML = docLinkHtml;\n",
              "          element.appendChild(docLink);\n",
              "        }\n",
              "      </script>\n",
              "    </div>\n",
              "  </div>\n",
              "  "
            ],
            "text/plain": [
              "      Gender Ever_Married  Age  ... Family_Size  Var_1  Segmentation\n",
              "22      Male          Yes   33  ...         2.0  Cat_3             A\n",
              "42    Female           No   27  ...         3.0  Cat_6             A\n",
              "55      Male          Yes   32  ...         2.0  Cat_6             B\n",
              "321     Male          Yes   89  ...         1.0  Cat_6             A\n",
              "338   Female           No   38  ...         1.0  Cat_6             A\n",
              "...      ...          ...  ...  ...         ...    ...           ...\n",
              "7798  Female           No   36  ...         1.0  Cat_6             D\n",
              "7835    Male          Yes   39  ...         2.0  Cat_6             B\n",
              "7990  Female           No   43  ...         1.0  Cat_6             A\n",
              "8028    Male          Yes   40  ...         1.0  Cat_4             D\n",
              "8043    Male          Yes   39  ...         2.0  Cat_6             B\n",
              "\n",
              "[91 rows x 10 columns]"
            ]
          },
          "metadata": {},
          "execution_count": 369
        }
      ]
    },
    {
      "cell_type": "markdown",
      "metadata": {
        "id": "Pf6yaDUKPwCF"
      },
      "source": [
        "After analyzing our data by segments i wouls assume that:\n",
        "- Seament \"A\" mostly includes male, married, artist, graduated, with 1 year or less work experiance and belomg in cat_6;\n",
        "- Segment \"B\": male, married, artist, graduated, with 1 year or less work experiance and belong in cat_6;\n",
        "- Segment \"C\": male, married, artist, graduated, with 1 year or less work experiance and belong in cat_6;\n",
        "- Segment \"D\": male, not married, healthcare worker, not gratuated, with 1 year or less work experiance and belong in cat_6;"
      ]
    },
    {
      "cell_type": "markdown",
      "metadata": {
        "id": "sYAvk8VlPwCF"
      },
      "source": [
        "Since majority of our data has very similar values, i would use \"Most frequent\" form of imputation of missing data."
      ]
    },
    {
      "cell_type": "code",
      "execution_count": 370,
      "metadata": {
        "colab": {
          "base_uri": "https://localhost:8080/",
          "height": 613
        },
        "id": "RIStotiLPwCF",
        "outputId": "22b2118a-35aa-4eb9-c29b-1b4bb309ec6c"
      },
      "outputs": [
        {
          "output_type": "execute_result",
          "data": {
            "text/plain": [
              "<matplotlib.axes._subplots.AxesSubplot at 0x7f401311cc50>"
            ]
          },
          "metadata": {},
          "execution_count": 370
        },
        {
          "output_type": "display_data",
          "data": {
            "image/png": "[encoded data removed]",
            "text/plain": [
              "<Figure size 1080x720 with 2 Axes>"
            ]
          },
          "metadata": {
            "needs_background": "light"
          }
        }
      ],
      "source": [
        "fig, ax = plt.subplots(figsize=(15,10))\n",
        "sns.heatmap(df.corr(), annot=True, ax=ax)"
      ]
    },
    {
      "cell_type": "markdown",
      "metadata": {
        "id": "-a7Y32TwPwCG"
      },
      "source": [
        "There are no significant correlations in data."
      ]
    },
    {
      "cell_type": "markdown",
      "metadata": {
        "id": "MHkjbo7ZPwCG"
      },
      "source": [
        "Lets train test split and create column transformer and pipeline for each data type."
      ]
    },
    {
      "cell_type": "code",
      "source": [
        "y = df['Segmentation']\n",
        "X = df.drop(columns='Segmentation')"
      ],
      "metadata": {
        "id": "OTXhdAvFBJK5"
      },
      "execution_count": 371,
      "outputs": []
    },
    {
      "cell_type": "code",
      "source": [
        "X_train, X_test, y_train, y_test = train_test_split(X, y, random_state=42)"
      ],
      "metadata": {
        "id": "JCAxuYYZBiRK"
      },
      "execution_count": 372,
      "outputs": []
    },
    {
      "cell_type": "code",
      "execution_count": 373,
      "metadata": {
        "id": "2KU3eWOQPwCG"
      },
      "outputs": [],
      "source": [
        "# Converting string names of the classes to numeric values\n",
        "df['Spending_Score'] = df['Spending_Score'].replace({'Low': 0, 'Medium': 1, 'High' : 2})\n",
        "\n",
        "# Select columns\n",
        "num_selector = make_column_selector(dtype_include='number')\n",
        "cat_selector = make_column_selector(dtype_include='object')\n",
        "\n",
        "# Instantiate Transformers\n",
        "median_imputer = SimpleImputer(strategy='most_frequent')\n",
        "freq_imputer = SimpleImputer(strategy='most_frequent')\n",
        "scaler = StandardScaler()\n",
        "ohe_encoder = OneHotEncoder(sparse=False, handle_unknown='ignore')\n",
        "\n",
        "# Make Pipelines for each column type\n",
        "num_pipe = make_pipeline(median_imputer, scaler)\n",
        "cat_pipe = make_pipeline(freq_imputer, ohe_encoder)\n",
        "\n",
        "# Match pipe to column\n",
        "num_tuple = (num_pipe, num_selector)\n",
        "cat_tuple = (cat_pipe, cat_selector)\n",
        "\n",
        "# Make column Transformer\n",
        "column_transformer = make_column_transformer(num_tuple, cat_tuple)"
      ]
    },
    {
      "cell_type": "markdown",
      "source": [
        "### Baseline"
      ],
      "metadata": {
        "id": "lqgzHRJIKGMu"
      }
    },
    {
      "cell_type": "code",
      "source": [
        "#Establishing baseline \n",
        "baseline = DummyClassifier(strategy='most_frequent')\n",
        "\n",
        "baseline_pipe = make_pipeline(column_transformer, baseline)\n",
        "\n",
        "baseline_pipe.fit(X_train, y_train)\n",
        "\n",
        "baseline_preds = baseline_pipe.predict(X_test)"
      ],
      "metadata": {
        "id": "tNnzRyYCCSrt"
      },
      "execution_count": 374,
      "outputs": []
    },
    {
      "cell_type": "code",
      "source": [
        "print('Training accuracy:', baseline_pipe.score(X_train, y_train))\n",
        "print('Testing accuracy:', baseline_pipe.score(X_test, y_test))"
      ],
      "metadata": {
        "colab": {
          "base_uri": "https://localhost:8080/"
        },
        "id": "91rvbpzAIHRB",
        "outputId": "028f991d-787c-4b16-ca51-1155e9aa0796"
      },
      "execution_count": 375,
      "outputs": [
        {
          "output_type": "stream",
          "name": "stdout",
          "text": [
            "Training accuracy: 0.27727431160683164\n",
            "Testing accuracy: 0.2639832723470988\n"
          ]
        }
      ]
    },
    {
      "cell_type": "code",
      "source": [
        "#Classification report\n",
        "print('Dummy classification report:\\n,', classification_report(y_test, baseline_preds))"
      ],
      "metadata": {
        "colab": {
          "base_uri": "https://localhost:8080/"
        },
        "id": "gX5YC54lIULU",
        "outputId": "4860b903-33cf-4aa7-97ea-763aac1e504d"
      },
      "execution_count": 376,
      "outputs": [
        {
          "output_type": "stream",
          "name": "stdout",
          "text": [
            "Dummy classification report:\n",
            ",               precision    recall  f1-score   support\n",
            "\n",
            "           A       0.00      0.00      0.00       484\n",
            "           B       0.00      0.00      0.00       458\n",
            "           C       0.00      0.00      0.00       466\n",
            "           D       0.26      1.00      0.42       505\n",
            "\n",
            "    accuracy                           0.26      1913\n",
            "   macro avg       0.07      0.25      0.10      1913\n",
            "weighted avg       0.07      0.26      0.11      1913\n",
            "\n"
          ]
        },
        {
          "output_type": "stream",
          "name": "stderr",
          "text": [
            "/usr/local/lib/python3.7/dist-packages/sklearn/metrics/_classification.py:1318: UndefinedMetricWarning: Precision and F-score are ill-defined and being set to 0.0 in labels with no predicted samples. Use `zero_division` parameter to control this behavior.\n",
            "  _warn_prf(average, modifier, msg_start, len(result))\n",
            "/usr/local/lib/python3.7/dist-packages/sklearn/metrics/_classification.py:1318: UndefinedMetricWarning: Precision and F-score are ill-defined and being set to 0.0 in labels with no predicted samples. Use `zero_division` parameter to control this behavior.\n",
            "  _warn_prf(average, modifier, msg_start, len(result))\n",
            "/usr/local/lib/python3.7/dist-packages/sklearn/metrics/_classification.py:1318: UndefinedMetricWarning: Precision and F-score are ill-defined and being set to 0.0 in labels with no predicted samples. Use `zero_division` parameter to control this behavior.\n",
            "  _warn_prf(average, modifier, msg_start, len(result))\n"
          ]
        }
      ]
    },
    {
      "cell_type": "markdown",
      "source": [
        "Our baseline scores are very bad."
      ],
      "metadata": {
        "id": "2BPiMdjlJFJI"
      }
    },
    {
      "cell_type": "markdown",
      "source": [
        "### Desision tree classifier"
      ],
      "metadata": {
        "id": "oHP9EahPJ9l-"
      }
    },
    {
      "cell_type": "code",
      "source": [
        "#Instance of the Model Decision Tree Classifier\n",
        "dec_tree = DecisionTreeClassifier(random_state = 42)\n",
        "\n",
        "dec_tree_pipe = make_pipeline(column_transformer, dec_tree)\n",
        "\n",
        "dec_tree_pipe.fit(X_train, y_train)\n",
        "\n",
        "dec_tree_preds = dec_tree_pipe.predict(X_test)"
      ],
      "metadata": {
        "id": "beakcdJyJOmn"
      },
      "execution_count": 377,
      "outputs": []
    },
    {
      "cell_type": "code",
      "source": [
        "print('Training accuracy:', dec_tree_pipe.score(X_train, y_train))\n",
        "print('Testing accuracy:', dec_tree_pipe.score(X_test, y_test))"
      ],
      "metadata": {
        "colab": {
          "base_uri": "https://localhost:8080/"
        },
        "id": "u5F-sdvXK8eL",
        "outputId": "1c7b34ad-b538-4dc0-eae8-5be6c2de27d9"
      },
      "execution_count": 378,
      "outputs": [
        {
          "output_type": "stream",
          "name": "stdout",
          "text": [
            "Training accuracy: 0.9574764726385501\n",
            "Testing accuracy: 0.4108729743857815\n"
          ]
        }
      ]
    },
    {
      "cell_type": "code",
      "source": [
        "#Classification report\n",
        "print('Classification report:\\n,', classification_report(y_test, dec_tree_preds))"
      ],
      "metadata": {
        "colab": {
          "base_uri": "https://localhost:8080/"
        },
        "id": "TPEfGb0eLFoX",
        "outputId": "54b94542-2401-480b-fd34-f9b70b6c4e56"
      },
      "execution_count": 379,
      "outputs": [
        {
          "output_type": "stream",
          "name": "stdout",
          "text": [
            "Classification report:\n",
            ",               precision    recall  f1-score   support\n",
            "\n",
            "           A       0.35      0.37      0.36       484\n",
            "           B       0.30      0.31      0.31       458\n",
            "           C       0.41      0.39      0.40       466\n",
            "           D       0.57      0.56      0.56       505\n",
            "\n",
            "    accuracy                           0.41      1913\n",
            "   macro avg       0.41      0.41      0.41      1913\n",
            "weighted avg       0.41      0.41      0.41      1913\n",
            "\n"
          ]
        }
      ]
    },
    {
      "cell_type": "markdown",
      "source": [
        "Results look better, but lets try to tune depth."
      ],
      "metadata": {
        "id": "eDnavwR6Lghg"
      }
    },
    {
      "cell_type": "code",
      "source": [
        "dec_tree.get_depth()"
      ],
      "metadata": {
        "colab": {
          "base_uri": "https://localhost:8080/"
        },
        "id": "ApqAS4BjLlUw",
        "outputId": "aa27d4be-3d0d-4a7b-d809-9fa1dc5731c6"
      },
      "execution_count": 380,
      "outputs": [
        {
          "output_type": "execute_result",
          "data": {
            "text/plain": [
              "32"
            ]
          },
          "metadata": {},
          "execution_count": 380
        }
      ]
    },
    {
      "cell_type": "markdown",
      "source": [
        "#### Dec tree param tuning."
      ],
      "metadata": {
        "id": "ZfPEZ5p1V_1E"
      }
    },
    {
      "cell_type": "code",
      "source": [
        "dec_tree.get_params()"
      ],
      "metadata": {
        "colab": {
          "base_uri": "https://localhost:8080/"
        },
        "id": "qFwh4VI1X7gY",
        "outputId": "11a4197c-6ef1-4e98-ac26-39e20013976d"
      },
      "execution_count": 381,
      "outputs": [
        {
          "output_type": "execute_result",
          "data": {
            "text/plain": [
              "{'ccp_alpha': 0.0,\n",
              " 'class_weight': None,\n",
              " 'criterion': 'gini',\n",
              " 'max_depth': None,\n",
              " 'max_features': None,\n",
              " 'max_leaf_nodes': None,\n",
              " 'min_impurity_decrease': 0.0,\n",
              " 'min_samples_leaf': 1,\n",
              " 'min_samples_split': 2,\n",
              " 'min_weight_fraction_leaf': 0.0,\n",
              " 'random_state': 42,\n",
              " 'splitter': 'best'}"
            ]
          },
          "metadata": {},
          "execution_count": 381
        }
      ]
    },
    {
      "cell_type": "code",
      "source": [
        "max_depth_range = list(range(2, 20))\n",
        "\n",
        "accuracy = []\n",
        "for depth in max_depth_range:\n",
        "    dec_tree1 = DecisionTreeClassifier(max_depth = depth, \n",
        "                             random_state = 42)\n",
        "    dec_tree_pipe1 = make_pipeline(column_transformer, dec_tree1)\n",
        "    dec_tree_pipe1.fit(X_train, y_train)\n",
        "    score = dec_tree_pipe1.score(X_test, y_test)\n",
        "    accuracy.append(score)"
      ],
      "metadata": {
        "id": "ogaxB2LMRFmG"
      },
      "execution_count": 382,
      "outputs": []
    },
    {
      "cell_type": "code",
      "source": [
        "plt.plot(max_depth_range, accuracy)\n",
        "plt.xlabel('max_depth')\n",
        "plt.ylabel('Accuracy');"
      ],
      "metadata": {
        "colab": {
          "base_uri": "https://localhost:8080/",
          "height": 280
        },
        "id": "_n7-_WFXV2x4",
        "outputId": "8d809efd-942f-4d76-f9b4-39e77ac9b9f8"
      },
      "execution_count": 383,
      "outputs": [
        {
          "output_type": "display_data",
          "data": {
            "image/png": "[encoded data removed]",
            "text/plain": [
              "<Figure size 432x288 with 1 Axes>"
            ]
          },
          "metadata": {
            "needs_background": "light"
          }
        }
      ]
    },
    {
      "cell_type": "markdown",
      "source": [
        "Lets try it with max depth of 6."
      ],
      "metadata": {
        "id": "JGeRLJqcmU38"
      }
    },
    {
      "cell_type": "code",
      "source": [
        "dec_tree2 = DecisionTreeClassifier(random_state = 42, max_depth=6)\n",
        "\n",
        "dec_tree_pipe2 = make_pipeline(column_transformer, dec_tree2)\n",
        "\n",
        "dec_tree_pipe2.fit(X_train, y_train)\n",
        "\n",
        "dec_tree_preds2 = dec_tree_pipe2.predict(X_test)"
      ],
      "metadata": {
        "id": "BE3II-_4mcik"
      },
      "execution_count": 384,
      "outputs": []
    },
    {
      "cell_type": "code",
      "source": [
        "print('Training accuracy:', dec_tree_pipe2.score(X_train, y_train))\n",
        "print('Testing accuracy:', dec_tree_pipe2.score(X_test, y_test))"
      ],
      "metadata": {
        "colab": {
          "base_uri": "https://localhost:8080/"
        },
        "id": "I602ziGRmsPi",
        "outputId": "1817057b-db58-4966-a3e6-762bf5b32270"
      },
      "execution_count": 385,
      "outputs": [
        {
          "output_type": "stream",
          "name": "stdout",
          "text": [
            "Training accuracy: 0.527710003485535\n",
            "Testing accuracy: 0.5081024568740199\n"
          ]
        }
      ]
    },
    {
      "cell_type": "code",
      "source": [
        "print('Classification report:\\n,', classification_report(y_test, dec_tree_preds2))"
      ],
      "metadata": {
        "colab": {
          "base_uri": "https://localhost:8080/"
        },
        "id": "eo0IBfsom0yq",
        "outputId": "ba26fafe-2a9a-40f6-c6d2-82c493bfab82"
      },
      "execution_count": 386,
      "outputs": [
        {
          "output_type": "stream",
          "name": "stdout",
          "text": [
            "Classification report:\n",
            ",               precision    recall  f1-score   support\n",
            "\n",
            "           A       0.43      0.50      0.47       484\n",
            "           B       0.39      0.42      0.41       458\n",
            "           C       0.61      0.40      0.48       466\n",
            "           D       0.63      0.69      0.66       505\n",
            "\n",
            "    accuracy                           0.51      1913\n",
            "   macro avg       0.52      0.50      0.50      1913\n",
            "weighted avg       0.52      0.51      0.51      1913\n",
            "\n"
          ]
        }
      ]
    },
    {
      "cell_type": "markdown",
      "source": [
        "### Bagging trees"
      ],
      "metadata": {
        "id": "HFGrlRIbX4pz"
      }
    },
    {
      "cell_type": "code",
      "source": [
        "# Instance of the Model Bagging Tree Classifier\n",
        "bagcls = BaggingClassifier(random_state = 42)\n",
        "\n",
        "bagcls_pipe = make_pipeline(column_transformer, bagcls)\n",
        "\n",
        "bagcls_pipe.fit(X_train, y_train)\n",
        "\n",
        "bagcls_preds = bagcls_pipe.predict(X_test)"
      ],
      "metadata": {
        "id": "fD_SwsDyL_mS"
      },
      "execution_count": 387,
      "outputs": []
    },
    {
      "cell_type": "code",
      "source": [
        "print('Training accuracy:', bagcls_pipe.score(X_train, y_train))\n",
        "print('Testing accuracy:', bagcls_pipe.score(X_test, y_test))"
      ],
      "metadata": {
        "colab": {
          "base_uri": "https://localhost:8080/"
        },
        "id": "lMT5TH1ZMSIv",
        "outputId": "31e1a1e2-0f20-4980-a022-d734da2e9355"
      },
      "execution_count": 388,
      "outputs": [
        {
          "output_type": "stream",
          "name": "stdout",
          "text": [
            "Training accuracy: 0.933252004182642\n",
            "Testing accuracy: 0.4406691061160481\n"
          ]
        }
      ]
    },
    {
      "cell_type": "code",
      "source": [
        "#Classification report\n",
        "print('Classification report:\\n,', classification_report(y_test, bagcls_preds))"
      ],
      "metadata": {
        "colab": {
          "base_uri": "https://localhost:8080/"
        },
        "id": "Yrk1Wx7WMU3w",
        "outputId": "b6cae633-a43d-4c5c-940b-f5e89349487d"
      },
      "execution_count": 389,
      "outputs": [
        {
          "output_type": "stream",
          "name": "stdout",
          "text": [
            "Classification report:\n",
            ",               precision    recall  f1-score   support\n",
            "\n",
            "           A       0.38      0.44      0.41       484\n",
            "           B       0.33      0.30      0.32       458\n",
            "           C       0.45      0.43      0.44       466\n",
            "           D       0.59      0.58      0.59       505\n",
            "\n",
            "    accuracy                           0.44      1913\n",
            "   macro avg       0.44      0.44      0.44      1913\n",
            "weighted avg       0.44      0.44      0.44      1913\n",
            "\n"
          ]
        }
      ]
    },
    {
      "cell_type": "markdown",
      "source": [
        "#### BT params tuning"
      ],
      "metadata": {
        "id": "s8SGFCUFYkUa"
      }
    },
    {
      "cell_type": "code",
      "source": [
        "bagcls.get_params()"
      ],
      "metadata": {
        "colab": {
          "base_uri": "https://localhost:8080/"
        },
        "id": "kcS_W1vqY6-q",
        "outputId": "77e73f39-90a0-4453-ae65-b037675d6569"
      },
      "execution_count": 390,
      "outputs": [
        {
          "output_type": "execute_result",
          "data": {
            "text/plain": [
              "{'base_estimator': None,\n",
              " 'bootstrap': True,\n",
              " 'bootstrap_features': False,\n",
              " 'max_features': 1.0,\n",
              " 'max_samples': 1.0,\n",
              " 'n_estimators': 10,\n",
              " 'n_jobs': None,\n",
              " 'oob_score': False,\n",
              " 'random_state': 42,\n",
              " 'verbose': 0,\n",
              " 'warm_start': False}"
            ]
          },
          "metadata": {},
          "execution_count": 390
        }
      ]
    },
    {
      "cell_type": "code",
      "source": [
        "n_estimators_range = list(range(2, 20))\n",
        "\n",
        "accuracy = []\n",
        "for est in n_estimators_range:\n",
        "    bagcls1 = BaggingClassifier(n_estimators = est, \n",
        "                             random_state = 42)\n",
        "    bagcls_pipe1 = make_pipeline(column_transformer, bagcls1)\n",
        "    bagcls_pipe1.fit(X_train, y_train)\n",
        "    score = bagcls_pipe1.score(X_test, y_test)\n",
        "    accuracy.append(score)"
      ],
      "metadata": {
        "id": "wG5KncW7ZD1m"
      },
      "execution_count": 391,
      "outputs": []
    },
    {
      "cell_type": "code",
      "source": [
        "plt.plot(n_estimators_range, accuracy)\n",
        "plt.xlabel('max_depth')\n",
        "plt.ylabel('Accuracy');"
      ],
      "metadata": {
        "colab": {
          "base_uri": "https://localhost:8080/",
          "height": 280
        },
        "id": "wRpA0uY8ZwZq",
        "outputId": "f1bea36a-e896-4958-b891-f4253f81cffa"
      },
      "execution_count": 392,
      "outputs": [
        {
          "output_type": "display_data",
          "data": {
            "image/png": "[encoded data removed]",
            "text/plain": [
              "<Figure size 432x288 with 1 Axes>"
            ]
          },
          "metadata": {
            "needs_background": "light"
          }
        }
      ]
    },
    {
      "cell_type": "code",
      "source": [
        "bagcls2 = BaggingClassifier(random_state = 42, n_estimators=13)\n",
        "\n",
        "bagcls_pipe2 = make_pipeline(column_transformer, bagcls2)\n",
        "\n",
        "bagcls_pipe2.fit(X_train, y_train)\n",
        "\n",
        "bagcls_preds2 = bagcls_pipe2.predict(X_test)"
      ],
      "metadata": {
        "id": "LdcQwnuXptMk"
      },
      "execution_count": 393,
      "outputs": []
    },
    {
      "cell_type": "code",
      "source": [
        "print('Training accuracy:', bagcls_pipe2.score(X_train, y_train))\n",
        "print('Testing accuracy:', bagcls_pipe2.score(X_test, y_test))"
      ],
      "metadata": {
        "colab": {
          "base_uri": "https://localhost:8080/"
        },
        "id": "PgTvfGfrqOBn",
        "outputId": "3c1c6105-a9ec-4225-a0bb-e64c0f5ff819"
      },
      "execution_count": 394,
      "outputs": [
        {
          "output_type": "stream",
          "name": "stdout",
          "text": [
            "Training accuracy: 0.9445799930289299\n",
            "Testing accuracy: 0.4511238891792995\n"
          ]
        }
      ]
    },
    {
      "cell_type": "code",
      "source": [
        "print('Classification report:\\n,', classification_report(y_test, bagcls_preds2))"
      ],
      "metadata": {
        "colab": {
          "base_uri": "https://localhost:8080/"
        },
        "id": "euO3rVNuqQbh",
        "outputId": "ebb5b856-5cb3-481b-a2f4-5dffad801fb9"
      },
      "execution_count": 395,
      "outputs": [
        {
          "output_type": "stream",
          "name": "stdout",
          "text": [
            "Classification report:\n",
            ",               precision    recall  f1-score   support\n",
            "\n",
            "           A       0.39      0.45      0.42       484\n",
            "           B       0.35      0.32      0.33       458\n",
            "           C       0.46      0.43      0.45       466\n",
            "           D       0.59      0.59      0.59       505\n",
            "\n",
            "    accuracy                           0.45      1913\n",
            "   macro avg       0.45      0.45      0.45      1913\n",
            "weighted avg       0.45      0.45      0.45      1913\n",
            "\n"
          ]
        }
      ]
    },
    {
      "cell_type": "markdown",
      "source": [
        "### RF Classifier"
      ],
      "metadata": {
        "id": "5uCuZQvgMh9B"
      }
    },
    {
      "cell_type": "code",
      "source": [
        "# Instance of the Model Random Forest Classifier\n",
        "rf = RandomForestClassifier(random_state = 42)\n",
        "\n",
        "rf_pipe = make_pipeline(column_transformer, rf)\n",
        "\n",
        "rf_pipe.fit(X_train, y_train)\n",
        "\n",
        "rf_preds = rf_pipe.predict(X_test)"
      ],
      "metadata": {
        "id": "mSGZQg1JMj9Y"
      },
      "execution_count": 396,
      "outputs": []
    },
    {
      "cell_type": "code",
      "source": [
        "print('Training accuracy:', rf_pipe.score(X_train, y_train))\n",
        "print('Testing accuracy:', rf_pipe.score(X_test, y_test))"
      ],
      "metadata": {
        "colab": {
          "base_uri": "https://localhost:8080/"
        },
        "id": "Xhph5PTWMykB",
        "outputId": "e4598f21-b294-46a1-f868-aa68eae5d3dd"
      },
      "execution_count": 397,
      "outputs": [
        {
          "output_type": "stream",
          "name": "stdout",
          "text": [
            "Training accuracy: 0.9574764726385501\n",
            "Testing accuracy: 0.446941975953999\n"
          ]
        }
      ]
    },
    {
      "cell_type": "code",
      "source": [
        "#Classification report\n",
        "print('Classification report:\\n,', classification_report(y_test, rf_preds))"
      ],
      "metadata": {
        "colab": {
          "base_uri": "https://localhost:8080/"
        },
        "id": "AU0h6jozM0db",
        "outputId": "74a1ada1-fb07-43f7-871d-84becfd8e534"
      },
      "execution_count": 398,
      "outputs": [
        {
          "output_type": "stream",
          "name": "stdout",
          "text": [
            "Classification report:\n",
            ",               precision    recall  f1-score   support\n",
            "\n",
            "           A       0.39      0.41      0.40       484\n",
            "           B       0.32      0.30      0.31       458\n",
            "           C       0.46      0.42      0.44       466\n",
            "           D       0.59      0.64      0.61       505\n",
            "\n",
            "    accuracy                           0.45      1913\n",
            "   macro avg       0.44      0.44      0.44      1913\n",
            "weighted avg       0.44      0.45      0.44      1913\n",
            "\n"
          ]
        }
      ]
    },
    {
      "cell_type": "markdown",
      "source": [
        "#### RF params tuning"
      ],
      "metadata": {
        "id": "3262_8fCaAur"
      }
    },
    {
      "cell_type": "code",
      "source": [
        "rf.get_params()"
      ],
      "metadata": {
        "colab": {
          "base_uri": "https://localhost:8080/"
        },
        "id": "XHEQCAORaDzU",
        "outputId": "9545eb88-6232-43a2-983a-03cd402a2134"
      },
      "execution_count": 399,
      "outputs": [
        {
          "output_type": "execute_result",
          "data": {
            "text/plain": [
              "{'bootstrap': True,\n",
              " 'ccp_alpha': 0.0,\n",
              " 'class_weight': None,\n",
              " 'criterion': 'gini',\n",
              " 'max_depth': None,\n",
              " 'max_features': 'auto',\n",
              " 'max_leaf_nodes': None,\n",
              " 'max_samples': None,\n",
              " 'min_impurity_decrease': 0.0,\n",
              " 'min_samples_leaf': 1,\n",
              " 'min_samples_split': 2,\n",
              " 'min_weight_fraction_leaf': 0.0,\n",
              " 'n_estimators': 100,\n",
              " 'n_jobs': None,\n",
              " 'oob_score': False,\n",
              " 'random_state': 42,\n",
              " 'verbose': 0,\n",
              " 'warm_start': False}"
            ]
          },
          "metadata": {},
          "execution_count": 399
        }
      ]
    },
    {
      "cell_type": "code",
      "source": [
        "n_estimators_range = list(range(2, 30))\n",
        "\n",
        "best_n = []\n",
        "for est in n_estimators_range:\n",
        "    rf = RandomForestClassifier(n_estimators = est, \n",
        "                             random_state = 42)\n",
        "    rf_pipe1 = make_pipeline(column_transformer, rf)\n",
        "    rf_pipe1.fit(X_train, y_train)\n",
        "    score = rf_pipe1.score(X_test, y_test)\n",
        "    best_n.append(score)"
      ],
      "metadata": {
        "id": "FXfLSDe5au5X"
      },
      "execution_count": 400,
      "outputs": []
    },
    {
      "cell_type": "code",
      "source": [
        "plt.plot(best_n)"
      ],
      "metadata": {
        "colab": {
          "base_uri": "https://localhost:8080/",
          "height": 282
        },
        "id": "zMVpOv1qcWut",
        "outputId": "65e36b67-1902-40a6-dba5-6948595f245d"
      },
      "execution_count": 401,
      "outputs": [
        {
          "output_type": "execute_result",
          "data": {
            "text/plain": [
              "[<matplotlib.lines.Line2D at 0x7f401424cb10>]"
            ]
          },
          "metadata": {},
          "execution_count": 401
        },
        {
          "output_type": "display_data",
          "data": {
            "image/png": "[encoded data removed]",
            "text/plain": [
              "<Figure size 432x288 with 1 Axes>"
            ]
          },
          "metadata": {
            "needs_background": "light"
          }
        }
      ]
    },
    {
      "cell_type": "code",
      "source": [
        "max_depth_range = list(range(2, 12))\n",
        "\n",
        "best_md = []\n",
        "for depth in max_depth_range:\n",
        "    rf = RandomForestClassifier(max_depth = depth, \n",
        "                             random_state = 42)\n",
        "    rf_pipe2 = make_pipeline(column_transformer, rf)\n",
        "    rf_pipe2.fit(X_train, y_train)\n",
        "    score = rf_pipe2.score(X_test, y_test)\n",
        "    best_md.append(score)"
      ],
      "metadata": {
        "id": "A9Ju1droa1gk"
      },
      "execution_count": 402,
      "outputs": []
    },
    {
      "cell_type": "code",
      "source": [
        "plt.plot(best_md)"
      ],
      "metadata": {
        "colab": {
          "base_uri": "https://localhost:8080/",
          "height": 282
        },
        "id": "1Ye_Os09cJsI",
        "outputId": "cc7f170e-cba3-4b7b-99c1-329c9e80d065"
      },
      "execution_count": 403,
      "outputs": [
        {
          "output_type": "execute_result",
          "data": {
            "text/plain": [
              "[<matplotlib.lines.Line2D at 0x7f4012cbbcd0>]"
            ]
          },
          "metadata": {},
          "execution_count": 403
        },
        {
          "output_type": "display_data",
          "data": {
            "image/png": "[encoded data removed]",
            "text/plain": [
              "<Figure size 432x288 with 1 Axes>"
            ]
          },
          "metadata": {
            "needs_background": "light"
          }
        }
      ]
    },
    {
      "cell_type": "code",
      "source": [
        "rf3 = RandomForestClassifier(random_state = 42, max_depth=8, n_estimators=20)\n",
        "\n",
        "rf_pipe3 = make_pipeline(column_transformer, rf3)\n",
        "\n",
        "rf_pipe3.fit(X_train, y_train)\n",
        "\n",
        "rf_preds3 = rf_pipe3.predict(X_test)"
      ],
      "metadata": {
        "id": "h2KgroWUqp0A"
      },
      "execution_count": 404,
      "outputs": []
    },
    {
      "cell_type": "code",
      "source": [
        "print('Training accuracy:', rf_pipe3.score(X_train, y_train))\n",
        "print('Testing accuracy:', rf_pipe3.score(X_test, y_test))"
      ],
      "metadata": {
        "colab": {
          "base_uri": "https://localhost:8080/"
        },
        "id": "hLCokn3orKuQ",
        "outputId": "ddde0a79-5e6c-4278-e07a-d5d73086ea30"
      },
      "execution_count": 405,
      "outputs": [
        {
          "output_type": "stream",
          "name": "stdout",
          "text": [
            "Training accuracy: 0.5911467410247473\n",
            "Testing accuracy: 0.5070569785676947\n"
          ]
        }
      ]
    },
    {
      "cell_type": "code",
      "source": [
        "print('Classification report:\\n,', classification_report(y_test, rf_preds3))"
      ],
      "metadata": {
        "colab": {
          "base_uri": "https://localhost:8080/"
        },
        "id": "kGSjUSlkrdRP",
        "outputId": "a36c0d6b-c58e-49d0-9c5f-70de55b0aee6"
      },
      "execution_count": 406,
      "outputs": [
        {
          "output_type": "stream",
          "name": "stdout",
          "text": [
            "Classification report:\n",
            ",               precision    recall  f1-score   support\n",
            "\n",
            "           A       0.44      0.48      0.46       484\n",
            "           B       0.39      0.28      0.32       458\n",
            "           C       0.54      0.52      0.53       466\n",
            "           D       0.60      0.72      0.66       505\n",
            "\n",
            "    accuracy                           0.51      1913\n",
            "   macro avg       0.49      0.50      0.49      1913\n",
            "weighted avg       0.50      0.51      0.50      1913\n",
            "\n"
          ]
        }
      ]
    },
    {
      "cell_type": "code",
      "source": [
        "#Setting parameters for GridSearchCV\n",
        "param_grid_rf = {'randomforestclassifier__n_estimators': [15,17,20,100],\n",
        "               'randomforestclassifier__max_depth': [3,6,8]}"
      ],
      "metadata": {
        "id": "43aWSuQmLD3Q"
      },
      "execution_count": 407,
      "outputs": []
    },
    {
      "cell_type": "code",
      "source": [
        "grid_rf = GridSearchCV(rf_pipe, param_grid_rf, cv=3)\n",
        "grid_rf.fit(X_train, y_train)\n",
        "grid_rf.best_params_"
      ],
      "metadata": {
        "colab": {
          "base_uri": "https://localhost:8080/"
        },
        "id": "7OWf7rqoOLRc",
        "outputId": "2b627e26-29a3-493d-8b49-412b30034738"
      },
      "execution_count": 408,
      "outputs": [
        {
          "output_type": "execute_result",
          "data": {
            "text/plain": [
              "{'randomforestclassifier__max_depth': 6,\n",
              " 'randomforestclassifier__n_estimators': 100}"
            ]
          },
          "metadata": {},
          "execution_count": 408
        }
      ]
    },
    {
      "cell_type": "code",
      "source": [
        "rf4 = RandomForestClassifier(random_state = 42, max_depth=6, n_estimators=100)\n",
        "\n",
        "rf_pipe4 = make_pipeline(column_transformer, rf4)\n",
        "\n",
        "rf_pipe4.fit(X_train, y_train)\n",
        "\n",
        "rf_preds4 = rf_pipe4.predict(X_test)"
      ],
      "metadata": {
        "id": "Jva6ML3yPQRp"
      },
      "execution_count": 421,
      "outputs": []
    },
    {
      "cell_type": "code",
      "source": [
        "print('Training accuracy:', rf_pipe3.score(X_train, y_train))\n",
        "print('Testing accuracy:', rf_pipe3.score(X_test, y_test))"
      ],
      "metadata": {
        "colab": {
          "base_uri": "https://localhost:8080/"
        },
        "id": "5gbpgKldPY6i",
        "outputId": "5ae531c2-40d9-4e35-8418-371ddb200b61"
      },
      "execution_count": 422,
      "outputs": [
        {
          "output_type": "stream",
          "name": "stdout",
          "text": [
            "Training accuracy: 0.5911467410247473\n",
            "Testing accuracy: 0.5070569785676947\n"
          ]
        }
      ]
    },
    {
      "cell_type": "code",
      "source": [
        "print('Classification report:\\n,', classification_report(y_test, rf_preds3))"
      ],
      "metadata": {
        "colab": {
          "base_uri": "https://localhost:8080/"
        },
        "id": "BOdTuOsdPfpQ",
        "outputId": "005672e9-24d0-4710-9e44-f6b29008c0f3"
      },
      "execution_count": 423,
      "outputs": [
        {
          "output_type": "stream",
          "name": "stdout",
          "text": [
            "Classification report:\n",
            ",               precision    recall  f1-score   support\n",
            "\n",
            "           A       0.44      0.48      0.46       484\n",
            "           B       0.39      0.28      0.32       458\n",
            "           C       0.54      0.52      0.53       466\n",
            "           D       0.60      0.72      0.66       505\n",
            "\n",
            "    accuracy                           0.51      1913\n",
            "   macro avg       0.49      0.50      0.49      1913\n",
            "weighted avg       0.50      0.51      0.50      1913\n",
            "\n"
          ]
        }
      ]
    },
    {
      "cell_type": "markdown",
      "source": [
        "### eXtreme Gradient Boosting"
      ],
      "metadata": {
        "id": "FBahuz50NDDt"
      }
    },
    {
      "cell_type": "code",
      "source": [
        "# Instantiate and fit XGboost\n",
        "xgb = XGBClassifier()\n",
        "\n",
        "xgb_pipe = make_pipeline(column_transformer, xgb)\n",
        "\n",
        "xgb_pipe.fit(X_train, y_train)\n",
        "\n",
        "xgb_preds = xgb_pipe.predict(X_test)"
      ],
      "metadata": {
        "id": "7VapllyMNHnE"
      },
      "execution_count": 412,
      "outputs": []
    },
    {
      "cell_type": "code",
      "source": [
        "print('Training accuracy:', xgb_pipe.score(X_train, y_train))\n",
        "print('Testing accuracy:', xgb_pipe.score(X_test, y_test))"
      ],
      "metadata": {
        "colab": {
          "base_uri": "https://localhost:8080/"
        },
        "id": "x0W1FFBMNdbt",
        "outputId": "8a1d4814-bdd0-467e-83af-dbcaec7bbef2"
      },
      "execution_count": 413,
      "outputs": [
        {
          "output_type": "stream",
          "name": "stdout",
          "text": [
            "Training accuracy: 0.554374346462182\n",
            "Testing accuracy: 0.5211709357030841\n"
          ]
        }
      ]
    },
    {
      "cell_type": "code",
      "source": [
        "#Classification report\n",
        "print('Classification report:\\n,', classification_report(y_test, xgb_preds))"
      ],
      "metadata": {
        "colab": {
          "base_uri": "https://localhost:8080/"
        },
        "id": "V3J5ugF3NfCk",
        "outputId": "5c1de974-9fc5-4818-8b88-ca43332c1876"
      },
      "execution_count": 414,
      "outputs": [
        {
          "output_type": "stream",
          "name": "stdout",
          "text": [
            "Classification report:\n",
            ",               precision    recall  f1-score   support\n",
            "\n",
            "           A       0.47      0.48      0.47       484\n",
            "           B       0.40      0.35      0.37       458\n",
            "           C       0.57      0.52      0.54       466\n",
            "           D       0.62      0.72      0.67       505\n",
            "\n",
            "    accuracy                           0.52      1913\n",
            "   macro avg       0.51      0.52      0.51      1913\n",
            "weighted avg       0.51      0.52      0.52      1913\n",
            "\n"
          ]
        }
      ]
    },
    {
      "cell_type": "markdown",
      "source": [
        "#### XGB param tuning"
      ],
      "metadata": {
        "id": "pIWMl5eeUeOp"
      }
    },
    {
      "cell_type": "code",
      "source": [
        "xgb.get_params()"
      ],
      "metadata": {
        "colab": {
          "base_uri": "https://localhost:8080/"
        },
        "id": "GYIFwP1gUjHW",
        "outputId": "e91452dc-dc07-4f34-d782-255e6a684cd1"
      },
      "execution_count": 426,
      "outputs": [
        {
          "output_type": "execute_result",
          "data": {
            "text/plain": [
              "{'base_score': 0.5,\n",
              " 'booster': 'gbtree',\n",
              " 'colsample_bylevel': 1,\n",
              " 'colsample_bynode': 1,\n",
              " 'colsample_bytree': 1,\n",
              " 'gamma': 0,\n",
              " 'learning_rate': 0.1,\n",
              " 'max_delta_step': 0,\n",
              " 'max_depth': 3,\n",
              " 'min_child_weight': 1,\n",
              " 'missing': None,\n",
              " 'n_estimators': 100,\n",
              " 'n_jobs': 1,\n",
              " 'nthread': None,\n",
              " 'objective': 'multi:softprob',\n",
              " 'random_state': 0,\n",
              " 'reg_alpha': 0,\n",
              " 'reg_lambda': 1,\n",
              " 'scale_pos_weight': 1,\n",
              " 'seed': None,\n",
              " 'silent': None,\n",
              " 'subsample': 1,\n",
              " 'verbosity': 1}"
            ]
          },
          "metadata": {},
          "execution_count": 426
        }
      ]
    },
    {
      "cell_type": "code",
      "source": [
        "xgb_params = {'xgbclassifier__learning_rate': [0.1, 0.2, 0.3],\n",
        "              'xgbclassifier__max_depth': [2,3,6],\n",
        "              'xgbclassifier__n_estimators': [120,140,160]}"
      ],
      "metadata": {
        "id": "lp1MUynpU6jY"
      },
      "execution_count": 435,
      "outputs": []
    },
    {
      "cell_type": "code",
      "source": [
        "grid_xgb = GridSearchCV(xgb_pipe, xgb_params, cv=3)\n",
        "grid_xgb.fit(X_train, y_train)\n",
        "grid_xgb.best_params_"
      ],
      "metadata": {
        "colab": {
          "base_uri": "https://localhost:8080/"
        },
        "id": "L2rpFGS-WMyP",
        "outputId": "f5c00b2a-356b-44d9-b2ba-6a19915eb6fc"
      },
      "execution_count": 436,
      "outputs": [
        {
          "output_type": "execute_result",
          "data": {
            "text/plain": [
              "{'xgbclassifier__learning_rate': 0.1,\n",
              " 'xgbclassifier__max_depth': 3,\n",
              " 'xgbclassifier__n_estimators': 140}"
            ]
          },
          "metadata": {},
          "execution_count": 436
        }
      ]
    },
    {
      "cell_type": "code",
      "source": [
        "xgb2 = XGBClassifier(n_estimators=140)\n",
        "\n",
        "xgb_pipe2 = make_pipeline(column_transformer, xgb2)\n",
        "\n",
        "xgb_pipe2.fit(X_train, y_train)\n",
        "\n",
        "xgb_preds2 = xgb_pipe2.predict(X_test)"
      ],
      "metadata": {
        "id": "vcyuMzVeXpVc"
      },
      "execution_count": 437,
      "outputs": []
    },
    {
      "cell_type": "code",
      "source": [
        "print('Training accuracy:', xgb_pipe2.score(X_train, y_train))\n",
        "print('Testing accuracy:', xgb_pipe2.score(X_test, y_test))"
      ],
      "metadata": {
        "colab": {
          "base_uri": "https://localhost:8080/"
        },
        "id": "4-r-EFndYEFj",
        "outputId": "aa5281a8-7f47-4b68-d101-893afc05cf72"
      },
      "execution_count": 438,
      "outputs": [
        {
          "output_type": "stream",
          "name": "stdout",
          "text": [
            "Training accuracy: 0.5622168002788428\n",
            "Testing accuracy: 0.5269210663878725\n"
          ]
        }
      ]
    },
    {
      "cell_type": "code",
      "source": [
        "#Classification report\n",
        "print('Classification report:\\n,', classification_report(y_test, xgb_preds2))"
      ],
      "metadata": {
        "colab": {
          "base_uri": "https://localhost:8080/"
        },
        "id": "Y2H6cAlhZDlb",
        "outputId": "c8e92e36-7b4d-4c91-9cf1-609859c3943e"
      },
      "execution_count": 439,
      "outputs": [
        {
          "output_type": "stream",
          "name": "stdout",
          "text": [
            "Classification report:\n",
            ",               precision    recall  f1-score   support\n",
            "\n",
            "           A       0.47      0.48      0.48       484\n",
            "           B       0.40      0.36      0.38       458\n",
            "           C       0.57      0.53      0.55       466\n",
            "           D       0.62      0.73      0.67       505\n",
            "\n",
            "    accuracy                           0.53      1913\n",
            "   macro avg       0.52      0.52      0.52      1913\n",
            "weighted avg       0.52      0.53      0.52      1913\n",
            "\n"
          ]
        }
      ]
    },
    {
      "cell_type": "markdown",
      "source": [
        "### Light GBM"
      ],
      "metadata": {
        "id": "KVyU2RYDOAd4"
      }
    },
    {
      "cell_type": "code",
      "source": [
        "# Instantiate and fit lightGBM\n",
        "lgbm = LGBMClassifier()\n",
        "\n",
        "lgbm_pipe = make_pipeline(column_transformer, xgb)\n",
        "\n",
        "lgbm_pipe.fit(X_train, y_train)\n",
        "\n",
        "lgbm_preds = lgbm_pipe.predict(X_test)"
      ],
      "metadata": {
        "id": "3sUH-GfjOCWe"
      },
      "execution_count": 415,
      "outputs": []
    },
    {
      "cell_type": "code",
      "source": [
        "print('Training accuracy:', lgbm_pipe.score(X_train, y_train))\n",
        "print('Testing accuracy:', lgbm_pipe.score(X_test, y_test))"
      ],
      "metadata": {
        "colab": {
          "base_uri": "https://localhost:8080/"
        },
        "id": "4xlk5mM0OMhy",
        "outputId": "6122767a-6df7-4dca-dcfa-390bc4fb3459"
      },
      "execution_count": 416,
      "outputs": [
        {
          "output_type": "stream",
          "name": "stdout",
          "text": [
            "Training accuracy: 0.554374346462182\n",
            "Testing accuracy: 0.5211709357030841\n"
          ]
        }
      ]
    },
    {
      "cell_type": "code",
      "source": [
        "#Classification report\n",
        "print('Classification report:\\n,', classification_report(y_test, lgbm_preds))"
      ],
      "metadata": {
        "colab": {
          "base_uri": "https://localhost:8080/"
        },
        "id": "GbPJRAASP5cM",
        "outputId": "84be94af-d538-44ca-d0f3-15ea1ba5a95e"
      },
      "execution_count": 417,
      "outputs": [
        {
          "output_type": "stream",
          "name": "stdout",
          "text": [
            "Classification report:\n",
            ",               precision    recall  f1-score   support\n",
            "\n",
            "           A       0.47      0.48      0.47       484\n",
            "           B       0.40      0.35      0.37       458\n",
            "           C       0.57      0.52      0.54       466\n",
            "           D       0.62      0.72      0.67       505\n",
            "\n",
            "    accuracy                           0.52      1913\n",
            "   macro avg       0.51      0.52      0.51      1913\n",
            "weighted avg       0.51      0.52      0.52      1913\n",
            "\n"
          ]
        }
      ]
    },
    {
      "cell_type": "markdown",
      "source": [
        "### Gradient boosting classifier"
      ],
      "metadata": {
        "id": "NpZG1DpIQF_2"
      }
    },
    {
      "cell_type": "code",
      "source": [
        "# Instantiate and fit gradient boosting classifier\n",
        "gbc = GradientBoostingClassifier()\n",
        "\n",
        "gbc_pipe = make_pipeline(column_transformer, gbc)\n",
        "\n",
        "gbc_pipe.fit(X_train, y_train)\n",
        "\n",
        "gbc_preds = gbc_pipe.predict(X_test)"
      ],
      "metadata": {
        "id": "Rl-uNi7lQFiL"
      },
      "execution_count": 418,
      "outputs": []
    },
    {
      "cell_type": "code",
      "source": [
        "print('Training accuracy:', gbc_pipe.score(X_train, y_train))\n",
        "print('Testing accuracy:', gbc_pipe.score(X_test, y_test))"
      ],
      "metadata": {
        "colab": {
          "base_uri": "https://localhost:8080/"
        },
        "id": "dn5NQd-FQZ2s",
        "outputId": "90fb536a-f09b-45c3-d079-9a6a63aed877"
      },
      "execution_count": 419,
      "outputs": [
        {
          "output_type": "stream",
          "name": "stdout",
          "text": [
            "Training accuracy: 0.5730219588706866\n",
            "Testing accuracy: 0.5185572399372713\n"
          ]
        }
      ]
    },
    {
      "cell_type": "code",
      "source": [
        "#Classification report\n",
        "print('Classification report:\\n,', classification_report(y_test, gbc_preds))"
      ],
      "metadata": {
        "colab": {
          "base_uri": "https://localhost:8080/"
        },
        "id": "hfVwXN2EQfzK",
        "outputId": "0c42bdd8-3676-437a-c087-23b68739eb0a"
      },
      "execution_count": 420,
      "outputs": [
        {
          "output_type": "stream",
          "name": "stdout",
          "text": [
            "Classification report:\n",
            ",               precision    recall  f1-score   support\n",
            "\n",
            "           A       0.46      0.48      0.47       484\n",
            "           B       0.41      0.34      0.37       458\n",
            "           C       0.56      0.51      0.54       466\n",
            "           D       0.61      0.72      0.66       505\n",
            "\n",
            "    accuracy                           0.52      1913\n",
            "   macro avg       0.51      0.51      0.51      1913\n",
            "weighted avg       0.51      0.52      0.51      1913\n",
            "\n"
          ]
        }
      ]
    },
    {
      "cell_type": "markdown",
      "source": [
        "XGB model with tuned hyperparameters gave us highest accuracy, so i would recomend using this model for predicting customer segmentation."
      ],
      "metadata": {
        "id": "iArL-mtccqIp"
      }
    }
  ],
  "metadata": {
    "colab": {
      "collapsed_sections": [
        "lqgzHRJIKGMu"
      ],
      "name": "customer_segmentation.ipynb",
      "provenance": [],
      "include_colab_link": true
    },
    "kernelspec": {
      "display_name": "Python 3",
      "name": "python3"
    },
    "language_info": {
      "codemirror_mode": {
        "name": "ipython",
        "version": 3
      },
      "file_extension": ".py",
      "mimetype": "text/x-python",
      "name": "python",
      "nbconvert_exporter": "python",
      "pygments_lexer": "ipython3",
      "version": "3.9.7"
    }
  },
  "nbformat": 4,
  "nbformat_minor": 0
}